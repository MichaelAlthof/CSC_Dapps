{
 "cells": [
  {
   "cell_type": "code",
   "execution_count": 1,
   "metadata": {},
   "outputs": [],
   "source": [
    "import numpy as np\n",
    "import matplotlib.pyplot as plt\n",
    "%matplotlib inline\n",
    "import os\n",
    "import pandas as pd\n",
    "\n",
    "from sklearn.pipeline import Pipeline\n",
    "from sklearn.model_selection import GridSearchCV\n",
    "from sklearn.ensemble  import GradientBoostingClassifier, RandomForestClassifier\n",
    "from sklearn.model_selection import StratifiedKFold, cross_val_score, train_test_split, KFold\n",
    "from sklearn.linear_model import LogisticRegression\n",
    "from sklearn.naive_bayes import GaussianNB\n",
    "import random\n",
    "\n",
    "from sklearn import metrics\n",
    "from collections import Counter\n",
    "import argparse\n",
    "from sklearn.model_selection import cross_validate\n",
    "from sklearn.metrics import roc_auc_score, average_precision_score, f1_score, precision_score, recall_score\n",
    "from sklearn.feature_extraction.text import TfidfVectorizer\n",
    "from sklearn.linear_model import SGDClassifier\n",
    "from sklearn.model_selection import ParameterGrid\n",
    "import lightgbm as lgb\n",
    "import seaborn as sns\n",
    "from sklearn.preprocessing import LabelEncoder, LabelBinarizer"
   ]
  },
  {
   "cell_type": "code",
   "execution_count": 2,
   "metadata": {},
   "outputs": [],
   "source": [
    "data = pd.read_csv(\"dapps_with_features_v3.csv\")"
   ]
  },
  {
   "cell_type": "code",
   "execution_count": 3,
   "metadata": {},
   "outputs": [],
   "source": [
    "RS = 42\n",
    "SPLITS = 5"
   ]
  },
  {
   "cell_type": "code",
   "execution_count": 4,
   "metadata": {},
   "outputs": [],
   "source": [
    "X = data.drop('category', axis=1)\n",
    "y = data.category"
   ]
  },
  {
   "cell_type": "code",
   "execution_count": 5,
   "metadata": {},
   "outputs": [],
   "source": [
    "X, X_test, y, y_test  = train_test_split(X, y, stratify=y, test_size=0.2, random_state=RS)"
   ]
  },
  {
   "cell_type": "code",
   "execution_count": 6,
   "metadata": {},
   "outputs": [
    {
     "name": "stdout",
     "output_type": "stream",
     "text": [
      "X_train shape (1716, 17)\n",
      "X_test shape (430, 17)\n"
     ]
    }
   ],
   "source": [
    "print(f'X_train shape {X.shape}')\n",
    "print(f'X_test shape {X_test.shape}')"
   ]
  },
  {
   "cell_type": "markdown",
   "metadata": {},
   "source": [
    "# Training on code (no comments)"
   ]
  },
  {
   "cell_type": "markdown",
   "metadata": {},
   "source": [
    "## Check for possible meta-parameters"
   ]
  },
  {
   "cell_type": "code",
   "execution_count": 8,
   "metadata": {},
   "outputs": [],
   "source": [
    "length_SC = X.SC_no_comments.apply(lambda x: len(x.split()))"
   ]
  },
  {
   "cell_type": "code",
   "execution_count": 9,
   "metadata": {},
   "outputs": [
    {
     "data": {
      "text/plain": [
       "<matplotlib.axes._subplots.AxesSubplot at 0x7f8438022e50>"
      ]
     },
     "execution_count": 9,
     "metadata": {},
     "output_type": "execute_result"
    },
    {
     "data": {
      "image/png": "[encoded data removed]",
      "text/plain": [
       "<Figure size 432x288 with 1 Axes>"
      ]
     },
     "metadata": {
      "needs_background": "light"
     },
     "output_type": "display_data"
    }
   ],
   "source": [
    "sns.distplot(length_SC)"
   ]
  },
  {
   "cell_type": "code",
   "execution_count": 10,
   "metadata": {},
   "outputs": [
    {
     "data": {
      "text/plain": [
       "count     1716.000000\n",
       "mean      2761.111888\n",
       "std       2605.391686\n",
       "min          5.000000\n",
       "25%       1173.750000\n",
       "50%       2070.000000\n",
       "75%       3420.000000\n",
       "max      28391.000000\n",
       "Name: SC_no_comments, dtype: float64"
      ]
     },
     "execution_count": 10,
     "metadata": {},
     "output_type": "execute_result"
    }
   ],
   "source": [
    "length_SC.describe()"
   ]
  },
  {
   "cell_type": "code",
   "execution_count": 11,
   "metadata": {},
   "outputs": [
    {
     "data": {
      "text/plain": [
       "newline                            2137095\n",
       "}                                   125672\n",
       "=                                   123624\n",
       "{                                   120403\n",
       "function                             92859\n",
       "                                    ...   \n",
       "SmsCertifier                             1\n",
       "singleFillResult                         1\n",
       "messageHash.recover(signature);          1\n",
       "SafeMath.sub(_incomingHex,               1\n",
       "gizerItemsContract;                      1\n",
       "Length: 160755, dtype: int64"
      ]
     },
     "execution_count": 11,
     "metadata": {},
     "output_type": "execute_result"
    }
   ],
   "source": [
    "X.SC_no_comments.str.split(expand=True).stack().value_counts()"
   ]
  },
  {
   "cell_type": "markdown",
   "metadata": {},
   "source": [
    "### Ridge"
   ]
  },
  {
   "cell_type": "code",
   "execution_count": 12,
   "metadata": {},
   "outputs": [
    {
     "name": "stderr",
     "output_type": "stream",
     "text": [
      "/home/RDC/zinovyee.hub/anaconda3/envs/dmc/lib/python3.8/site-packages/sklearn/model_selection/_split.py:292: FutureWarning: Setting a random_state has no effect since shuffle is False. This will raise an error in 0.24. You should leave random_state to its default (None), or set shuffle=True.\n",
      "  warnings.warn(\n"
     ]
    }
   ],
   "source": [
    "kf  = StratifiedKFold(n_splits=SPLITS, random_state=RS)\n",
    "\n",
    "word_vectorizer   = TfidfVectorizer(\n",
    "    sublinear_tf  = True,\n",
    "    strip_accents = 'unicode',\n",
    "    analyzer      = 'word',\n",
    "    token_pattern = r'\\w{1,}',\n",
    "    #stop_words    = 'english',\n",
    "    ngram_range   = (1, 1),\n",
    "    max_features  = 40000) # max 144018"
   ]
  },
  {
   "cell_type": "code",
   "execution_count": 13,
   "metadata": {},
   "outputs": [],
   "source": [
    "c = 0\n",
    "C_parameter = np.arange(0.1, 1.1, 0.1) \n",
    "\n",
    "# use best C\n",
    "\n",
    "C_parameter = [1]"
   ]
  },
  {
   "cell_type": "code",
   "execution_count": 14,
   "metadata": {},
   "outputs": [],
   "source": [
    "names = [f'aucroc_{i}' for i in ['development', 'exchanges', 'finance', 'gambling', 'games',\n",
    "       'high-risk', 'marketplaces', 'media', 'other', 'social']]\n",
    "names2 = [f'aucprc_{i}' for i in ['development', 'exchanges', 'finance', 'gambling', 'games',\n",
    "       'high-risk', 'marketplaces', 'media', 'other', 'social']]\n",
    "names.extend(names2)"
   ]
  },
  {
   "cell_type": "code",
   "execution_count": 15,
   "metadata": {},
   "outputs": [
    {
     "name": "stdout",
     "output_type": "stream",
     "text": [
      "C:1 AUC ROC: 0.909\n",
      "C:1 AUC PRC: 0.618\n"
     ]
    }
   ],
   "source": [
    "for c_p in C_parameter:  \n",
    "    metrics_cv = pd.DataFrame(np.zeros((SPLITS, len(names))), columns=names)\n",
    "    for c, (train_index, val_index) in enumerate(kf.split(X, y)):\n",
    "\n",
    "            X_train, X_val      = X.iloc[train_index]['SC_full'], X.iloc[val_index]['SC_full']\n",
    "            y_train, y_val      = y.iloc[train_index], y.iloc[val_index] \n",
    "            word_vectorizer.fit(X_train)\n",
    "            train_word_features = word_vectorizer.transform(X_train)\n",
    "            val_word_features   = word_vectorizer.transform(X_val)\n",
    "             \n",
    "            le = LabelBinarizer()\n",
    "            le.fit(y_train)\n",
    "            \n",
    "            y_train = le.transform(y_train)\n",
    "            y_val = le.transform(y_val)\n",
    "            \n",
    "            for i, cl in enumerate(le.classes_):\n",
    "                classifier = LogisticRegression(C=c_p, solver='sag', random_state=RS)\n",
    "                classifier.fit(train_word_features, y_train[:,i])\n",
    "                probs      = classifier.predict_proba(val_word_features)[:,1]\n",
    "                auc_roc_class = roc_auc_score(y_val[:,i], probs)\n",
    "                auc_pr_class = average_precision_score(y_val[:,i], probs)\n",
    "                \n",
    "                metrics_cv.loc[c, f'aucroc_{cl}'] = round(auc_roc_class, 3)\n",
    "                metrics_cv.loc[c, f'aucprc_{cl}'] = round(auc_pr_class, 3)   \n",
    "                \n",
    "    print(f\"C:{c_p} AUC ROC: {round(metrics_cv.loc[:, metrics_cv.columns.str.contains('aucroc')].mean(axis=0).mean(), 3)}\")\n",
    "    print(f\"C:{c_p} AUC PRC: {round(metrics_cv.loc[:, metrics_cv.columns.str.contains('aucprc')].mean(axis=0).mean(), 3)}\")"
   ]
  },
  {
   "cell_type": "code",
   "execution_count": 16,
   "metadata": {},
   "outputs": [
    {
     "data": {
      "text/plain": [
       "aucroc_development     0.884\n",
       "aucroc_exchanges       0.977\n",
       "aucroc_finance         0.945\n",
       "aucroc_gambling        0.929\n",
       "aucroc_games           0.940\n",
       "aucroc_high-risk       0.953\n",
       "aucroc_marketplaces    0.912\n",
       "aucroc_media           0.869\n",
       "aucroc_other           0.872\n",
       "aucroc_social          0.810\n",
       "dtype: float64"
      ]
     },
     "execution_count": 16,
     "metadata": {},
     "output_type": "execute_result"
    }
   ],
   "source": [
    "round(metrics_cv.loc[:, metrics_cv.columns.str.contains('aucroc')].mean(axis=0), 3)"
   ]
  },
  {
   "cell_type": "code",
   "execution_count": 17,
   "metadata": {},
   "outputs": [
    {
     "data": {
      "text/plain": [
       "aucprc_development     0.450\n",
       "aucprc_exchanges       0.959\n",
       "aucprc_finance         0.846\n",
       "aucprc_gambling        0.768\n",
       "aucprc_games           0.865\n",
       "aucprc_high-risk       0.690\n",
       "aucprc_marketplaces    0.607\n",
       "aucprc_media           0.338\n",
       "aucprc_other           0.451\n",
       "aucprc_social          0.207\n",
       "dtype: float64"
      ]
     },
     "execution_count": 17,
     "metadata": {},
     "output_type": "execute_result"
    }
   ],
   "source": [
    "round(metrics_cv.loc[:, metrics_cv.columns.str.contains('aucprc')].mean(axis=0), 3)"
   ]
  },
  {
   "cell_type": "code",
   "execution_count": 18,
   "metadata": {},
   "outputs": [
    {
     "data": {
      "text/html": [
       "<div>\n",
       "<style scoped>\n",
       "    .dataframe tbody tr th:only-of-type {\n",
       "        vertical-align: middle;\n",
       "    }\n",
       "\n",
       "    .dataframe tbody tr th {\n",
       "        vertical-align: top;\n",
       "    }\n",
       "\n",
       "    .dataframe thead th {\n",
       "        text-align: right;\n",
       "    }\n",
       "</style>\n",
       "<table border=\"1\" class=\"dataframe\">\n",
       "  <thead>\n",
       "    <tr style=\"text-align: right;\">\n",
       "      <th></th>\n",
       "      <th>aucroc_development</th>\n",
       "      <th>aucroc_exchanges</th>\n",
       "      <th>aucroc_finance</th>\n",
       "      <th>aucroc_gambling</th>\n",
       "      <th>aucroc_games</th>\n",
       "      <th>aucroc_high-risk</th>\n",
       "      <th>aucroc_marketplaces</th>\n",
       "      <th>aucroc_media</th>\n",
       "      <th>aucroc_other</th>\n",
       "      <th>aucroc_social</th>\n",
       "      <th>aucprc_development</th>\n",
       "      <th>aucprc_exchanges</th>\n",
       "      <th>aucprc_finance</th>\n",
       "      <th>aucprc_gambling</th>\n",
       "      <th>aucprc_games</th>\n",
       "      <th>aucprc_high-risk</th>\n",
       "      <th>aucprc_marketplaces</th>\n",
       "      <th>aucprc_media</th>\n",
       "      <th>aucprc_other</th>\n",
       "      <th>aucprc_social</th>\n",
       "    </tr>\n",
       "  </thead>\n",
       "  <tbody>\n",
       "    <tr>\n",
       "      <th>0</th>\n",
       "      <td>0.834</td>\n",
       "      <td>0.971</td>\n",
       "      <td>0.914</td>\n",
       "      <td>0.923</td>\n",
       "      <td>0.933</td>\n",
       "      <td>0.922</td>\n",
       "      <td>0.878</td>\n",
       "      <td>0.868</td>\n",
       "      <td>0.855</td>\n",
       "      <td>0.802</td>\n",
       "      <td>0.297</td>\n",
       "      <td>0.949</td>\n",
       "      <td>0.767</td>\n",
       "      <td>0.807</td>\n",
       "      <td>0.891</td>\n",
       "      <td>0.604</td>\n",
       "      <td>0.560</td>\n",
       "      <td>0.292</td>\n",
       "      <td>0.422</td>\n",
       "      <td>0.277</td>\n",
       "    </tr>\n",
       "    <tr>\n",
       "      <th>1</th>\n",
       "      <td>0.912</td>\n",
       "      <td>0.991</td>\n",
       "      <td>0.959</td>\n",
       "      <td>0.921</td>\n",
       "      <td>0.929</td>\n",
       "      <td>0.965</td>\n",
       "      <td>0.907</td>\n",
       "      <td>0.865</td>\n",
       "      <td>0.814</td>\n",
       "      <td>0.790</td>\n",
       "      <td>0.490</td>\n",
       "      <td>0.977</td>\n",
       "      <td>0.894</td>\n",
       "      <td>0.662</td>\n",
       "      <td>0.806</td>\n",
       "      <td>0.737</td>\n",
       "      <td>0.700</td>\n",
       "      <td>0.399</td>\n",
       "      <td>0.330</td>\n",
       "      <td>0.127</td>\n",
       "    </tr>\n",
       "    <tr>\n",
       "      <th>2</th>\n",
       "      <td>0.931</td>\n",
       "      <td>0.988</td>\n",
       "      <td>0.965</td>\n",
       "      <td>0.923</td>\n",
       "      <td>0.948</td>\n",
       "      <td>0.934</td>\n",
       "      <td>0.923</td>\n",
       "      <td>0.866</td>\n",
       "      <td>0.879</td>\n",
       "      <td>0.835</td>\n",
       "      <td>0.481</td>\n",
       "      <td>0.971</td>\n",
       "      <td>0.882</td>\n",
       "      <td>0.806</td>\n",
       "      <td>0.883</td>\n",
       "      <td>0.744</td>\n",
       "      <td>0.547</td>\n",
       "      <td>0.214</td>\n",
       "      <td>0.478</td>\n",
       "      <td>0.184</td>\n",
       "    </tr>\n",
       "    <tr>\n",
       "      <th>3</th>\n",
       "      <td>0.914</td>\n",
       "      <td>0.979</td>\n",
       "      <td>0.966</td>\n",
       "      <td>0.918</td>\n",
       "      <td>0.959</td>\n",
       "      <td>0.973</td>\n",
       "      <td>0.956</td>\n",
       "      <td>0.908</td>\n",
       "      <td>0.900</td>\n",
       "      <td>0.780</td>\n",
       "      <td>0.613</td>\n",
       "      <td>0.967</td>\n",
       "      <td>0.890</td>\n",
       "      <td>0.765</td>\n",
       "      <td>0.887</td>\n",
       "      <td>0.601</td>\n",
       "      <td>0.659</td>\n",
       "      <td>0.227</td>\n",
       "      <td>0.541</td>\n",
       "      <td>0.128</td>\n",
       "    </tr>\n",
       "    <tr>\n",
       "      <th>4</th>\n",
       "      <td>0.831</td>\n",
       "      <td>0.956</td>\n",
       "      <td>0.919</td>\n",
       "      <td>0.959</td>\n",
       "      <td>0.929</td>\n",
       "      <td>0.973</td>\n",
       "      <td>0.894</td>\n",
       "      <td>0.839</td>\n",
       "      <td>0.914</td>\n",
       "      <td>0.841</td>\n",
       "      <td>0.368</td>\n",
       "      <td>0.932</td>\n",
       "      <td>0.797</td>\n",
       "      <td>0.800</td>\n",
       "      <td>0.857</td>\n",
       "      <td>0.763</td>\n",
       "      <td>0.568</td>\n",
       "      <td>0.559</td>\n",
       "      <td>0.485</td>\n",
       "      <td>0.317</td>\n",
       "    </tr>\n",
       "  </tbody>\n",
       "</table>\n",
       "</div>"
      ],
      "text/plain": [
       "   aucroc_development  aucroc_exchanges  aucroc_finance  aucroc_gambling  \\\n",
       "0               0.834             0.971           0.914            0.923   \n",
       "1               0.912             0.991           0.959            0.921   \n",
       "2               0.931             0.988           0.965            0.923   \n",
       "3               0.914             0.979           0.966            0.918   \n",
       "4               0.831             0.956           0.919            0.959   \n",
       "\n",
       "   aucroc_games  aucroc_high-risk  aucroc_marketplaces  aucroc_media  \\\n",
       "0         0.933             0.922                0.878         0.868   \n",
       "1         0.929             0.965                0.907         0.865   \n",
       "2         0.948             0.934                0.923         0.866   \n",
       "3         0.959             0.973                0.956         0.908   \n",
       "4         0.929             0.973                0.894         0.839   \n",
       "\n",
       "   aucroc_other  aucroc_social  aucprc_development  aucprc_exchanges  \\\n",
       "0         0.855          0.802               0.297             0.949   \n",
       "1         0.814          0.790               0.490             0.977   \n",
       "2         0.879          0.835               0.481             0.971   \n",
       "3         0.900          0.780               0.613             0.967   \n",
       "4         0.914          0.841               0.368             0.932   \n",
       "\n",
       "   aucprc_finance  aucprc_gambling  aucprc_games  aucprc_high-risk  \\\n",
       "0           0.767            0.807         0.891             0.604   \n",
       "1           0.894            0.662         0.806             0.737   \n",
       "2           0.882            0.806         0.883             0.744   \n",
       "3           0.890            0.765         0.887             0.601   \n",
       "4           0.797            0.800         0.857             0.763   \n",
       "\n",
       "   aucprc_marketplaces  aucprc_media  aucprc_other  aucprc_social  \n",
       "0                0.560         0.292         0.422          0.277  \n",
       "1                0.700         0.399         0.330          0.127  \n",
       "2                0.547         0.214         0.478          0.184  \n",
       "3                0.659         0.227         0.541          0.128  \n",
       "4                0.568         0.559         0.485          0.317  "
      ]
     },
     "execution_count": 18,
     "metadata": {},
     "output_type": "execute_result"
    }
   ],
   "source": [
    "metrics_cv"
   ]
  },
  {
   "cell_type": "code",
   "execution_count": 19,
   "metadata": {},
   "outputs": [],
   "source": [
    "# TRAIN ON WHOLE DATA AND PREDICT ON TEST\n",
    "metrics = pd.DataFrame(np.zeros((1,len(names))), columns=names)\n",
    "word_vectorizer.fit(X['SC_full'])\n",
    "train_word_features  = word_vectorizer.transform(X['SC_full'])\n",
    "test_word_features   = word_vectorizer.transform(X_test['SC_full'])\n",
    "\n",
    "le = LabelBinarizer()\n",
    "le.fit(y)\n",
    "\n",
    "y_train = le.transform(y)\n",
    "y_test_lb = le.transform(y_test)\n",
    "\n",
    "for i, cl in enumerate(le.classes_):\n",
    "    classifier = LogisticRegression(C=c_p, solver='sag', random_state=RS)\n",
    "    classifier.fit(train_word_features, y_train[:,i])\n",
    "    probs      = classifier.predict_proba(test_word_features)[:,1]\n",
    "    auc_roc_class = roc_auc_score(y_test_lb[:,i], probs)\n",
    "    auc_pr_class = average_precision_score(y_test_lb[:,i], probs)\n",
    "\n",
    "    metrics.loc[0, f'aucroc_{cl}'] = round(auc_roc_class, 3)\n",
    "    metrics.loc[0, f'aucprc_{cl}'] = round(auc_pr_class, 3)   "
   ]
  },
  {
   "cell_type": "code",
   "execution_count": 20,
   "metadata": {},
   "outputs": [
    {
     "data": {
      "text/html": [
       "<div>\n",
       "<style scoped>\n",
       "    .dataframe tbody tr th:only-of-type {\n",
       "        vertical-align: middle;\n",
       "    }\n",
       "\n",
       "    .dataframe tbody tr th {\n",
       "        vertical-align: top;\n",
       "    }\n",
       "\n",
       "    .dataframe thead th {\n",
       "        text-align: right;\n",
       "    }\n",
       "</style>\n",
       "<table border=\"1\" class=\"dataframe\">\n",
       "  <thead>\n",
       "    <tr style=\"text-align: right;\">\n",
       "      <th></th>\n",
       "      <th>aucroc_development</th>\n",
       "      <th>aucroc_exchanges</th>\n",
       "      <th>aucroc_finance</th>\n",
       "      <th>aucroc_gambling</th>\n",
       "      <th>aucroc_games</th>\n",
       "      <th>aucroc_high-risk</th>\n",
       "      <th>aucroc_marketplaces</th>\n",
       "      <th>aucroc_media</th>\n",
       "      <th>aucroc_other</th>\n",
       "      <th>aucroc_social</th>\n",
       "      <th>aucprc_development</th>\n",
       "      <th>aucprc_exchanges</th>\n",
       "      <th>aucprc_finance</th>\n",
       "      <th>aucprc_gambling</th>\n",
       "      <th>aucprc_games</th>\n",
       "      <th>aucprc_high-risk</th>\n",
       "      <th>aucprc_marketplaces</th>\n",
       "      <th>aucprc_media</th>\n",
       "      <th>aucprc_other</th>\n",
       "      <th>aucprc_social</th>\n",
       "    </tr>\n",
       "  </thead>\n",
       "  <tbody>\n",
       "    <tr>\n",
       "      <th>0</th>\n",
       "      <td>0.878</td>\n",
       "      <td>0.982</td>\n",
       "      <td>0.95</td>\n",
       "      <td>0.92</td>\n",
       "      <td>0.943</td>\n",
       "      <td>0.961</td>\n",
       "      <td>0.89</td>\n",
       "      <td>0.947</td>\n",
       "      <td>0.949</td>\n",
       "      <td>0.763</td>\n",
       "      <td>0.432</td>\n",
       "      <td>0.959</td>\n",
       "      <td>0.828</td>\n",
       "      <td>0.697</td>\n",
       "      <td>0.882</td>\n",
       "      <td>0.629</td>\n",
       "      <td>0.631</td>\n",
       "      <td>0.699</td>\n",
       "      <td>0.547</td>\n",
       "      <td>0.167</td>\n",
       "    </tr>\n",
       "  </tbody>\n",
       "</table>\n",
       "</div>"
      ],
      "text/plain": [
       "   aucroc_development  aucroc_exchanges  aucroc_finance  aucroc_gambling  \\\n",
       "0               0.878             0.982            0.95             0.92   \n",
       "\n",
       "   aucroc_games  aucroc_high-risk  aucroc_marketplaces  aucroc_media  \\\n",
       "0         0.943             0.961                 0.89         0.947   \n",
       "\n",
       "   aucroc_other  aucroc_social  aucprc_development  aucprc_exchanges  \\\n",
       "0         0.949          0.763               0.432             0.959   \n",
       "\n",
       "   aucprc_finance  aucprc_gambling  aucprc_games  aucprc_high-risk  \\\n",
       "0           0.828            0.697         0.882             0.629   \n",
       "\n",
       "   aucprc_marketplaces  aucprc_media  aucprc_other  aucprc_social  \n",
       "0                0.631         0.699         0.547          0.167  "
      ]
     },
     "execution_count": 20,
     "metadata": {},
     "output_type": "execute_result"
    }
   ],
   "source": [
    "metrics"
   ]
  },
  {
   "cell_type": "code",
   "execution_count": 21,
   "metadata": {},
   "outputs": [
    {
     "data": {
      "text/plain": [
       "0    0.918\n",
       "dtype: float64"
      ]
     },
     "execution_count": 21,
     "metadata": {},
     "output_type": "execute_result"
    }
   ],
   "source": [
    "round(metrics.loc[:, metrics.columns.str.contains('aucroc')].mean(axis=1), 3)"
   ]
  },
  {
   "cell_type": "code",
   "execution_count": 22,
   "metadata": {},
   "outputs": [
    {
     "data": {
      "text/plain": [
       "0    0.647\n",
       "dtype: float64"
      ]
     },
     "execution_count": 22,
     "metadata": {},
     "output_type": "execute_result"
    }
   ],
   "source": [
    "round(metrics.loc[:, metrics.columns.str.contains('aucprc')].mean(axis=1), 3)"
   ]
  },
  {
   "cell_type": "markdown",
   "metadata": {},
   "source": [
    "### Random Forest"
   ]
  },
  {
   "cell_type": "code",
   "execution_count": 23,
   "metadata": {},
   "outputs": [
    {
     "name": "stderr",
     "output_type": "stream",
     "text": [
      "/home/RDC/zinovyee.hub/anaconda3/envs/dmc/lib/python3.8/site-packages/sklearn/model_selection/_split.py:292: FutureWarning: Setting a random_state has no effect since shuffle is False. This will raise an error in 0.24. You should leave random_state to its default (None), or set shuffle=True.\n",
      "  warnings.warn(\n"
     ]
    }
   ],
   "source": [
    "kf  = StratifiedKFold(n_splits=SPLITS, random_state=RS)\n",
    "\n",
    "word_vectorizer   = TfidfVectorizer(\n",
    "    sublinear_tf  = True,\n",
    "    strip_accents = 'unicode',\n",
    "    analyzer      = 'word',\n",
    "    token_pattern = r'\\w{1,}',\n",
    "    ngram_range   = (1, 1),\n",
    "    max_features  = 40000) # max 144018"
   ]
  },
  {
   "cell_type": "code",
   "execution_count": 24,
   "metadata": {},
   "outputs": [
    {
     "name": "stderr",
     "output_type": "stream",
     "text": [
      "[Parallel(n_jobs=20)]: Using backend ThreadingBackend with 20 concurrent workers.\n",
      "[Parallel(n_jobs=20)]: Done  10 tasks      | elapsed:    0.2s\n",
      "[Parallel(n_jobs=20)]: Done 160 tasks      | elapsed:    1.2s\n",
      "[Parallel(n_jobs=20)]: Done 410 tasks      | elapsed:    2.6s\n",
      "[Parallel(n_jobs=20)]: Done 600 out of 600 | elapsed:    3.8s finished\n",
      "[Parallel(n_jobs=20)]: Using backend ThreadingBackend with 20 concurrent workers.\n",
      "[Parallel(n_jobs=20)]: Done  10 tasks      | elapsed:    0.0s\n",
      "[Parallel(n_jobs=20)]: Done 160 tasks      | elapsed:    0.2s\n",
      "[Parallel(n_jobs=20)]: Done 410 tasks      | elapsed:    0.6s\n",
      "[Parallel(n_jobs=20)]: Done 600 out of 600 | elapsed:    0.8s finished\n",
      "[Parallel(n_jobs=20)]: Using backend ThreadingBackend with 20 concurrent workers.\n",
      "[Parallel(n_jobs=20)]: Done  10 tasks      | elapsed:    0.1s\n",
      "[Parallel(n_jobs=20)]: Done 160 tasks      | elapsed:    1.1s\n",
      "[Parallel(n_jobs=20)]: Done 410 tasks      | elapsed:    2.6s\n",
      "[Parallel(n_jobs=20)]: Done 600 out of 600 | elapsed:    3.8s finished\n",
      "[Parallel(n_jobs=20)]: Using backend ThreadingBackend with 20 concurrent workers.\n",
      "[Parallel(n_jobs=20)]: Done  10 tasks      | elapsed:    0.0s\n",
      "[Parallel(n_jobs=20)]: Done 160 tasks      | elapsed:    0.2s\n",
      "[Parallel(n_jobs=20)]: Done 410 tasks      | elapsed:    0.4s\n",
      "[Parallel(n_jobs=20)]: Done 600 out of 600 | elapsed:    0.6s finished\n",
      "[Parallel(n_jobs=20)]: Using backend ThreadingBackend with 20 concurrent workers.\n",
      "[Parallel(n_jobs=20)]: Done  10 tasks      | elapsed:    0.1s\n",
      "[Parallel(n_jobs=20)]: Done 160 tasks      | elapsed:    1.0s\n",
      "[Parallel(n_jobs=20)]: Done 410 tasks      | elapsed:    2.7s\n",
      "[Parallel(n_jobs=20)]: Done 600 out of 600 | elapsed:    3.9s finished\n",
      "[Parallel(n_jobs=20)]: Using backend ThreadingBackend with 20 concurrent workers.\n",
      "[Parallel(n_jobs=20)]: Done  10 tasks      | elapsed:    0.0s\n",
      "[Parallel(n_jobs=20)]: Done 160 tasks      | elapsed:    0.2s\n",
      "[Parallel(n_jobs=20)]: Done 410 tasks      | elapsed:    0.6s\n",
      "[Parallel(n_jobs=20)]: Done 600 out of 600 | elapsed:    0.8s finished\n",
      "[Parallel(n_jobs=20)]: Using backend ThreadingBackend with 20 concurrent workers.\n",
      "[Parallel(n_jobs=20)]: Done  10 tasks      | elapsed:    0.1s\n",
      "[Parallel(n_jobs=20)]: Done 160 tasks      | elapsed:    1.1s\n",
      "[Parallel(n_jobs=20)]: Done 410 tasks      | elapsed:    2.7s\n",
      "[Parallel(n_jobs=20)]: Done 600 out of 600 | elapsed:    3.9s finished\n",
      "[Parallel(n_jobs=20)]: Using backend ThreadingBackend with 20 concurrent workers.\n",
      "[Parallel(n_jobs=20)]: Done  10 tasks      | elapsed:    0.0s\n",
      "[Parallel(n_jobs=20)]: Done 160 tasks      | elapsed:    0.2s\n",
      "[Parallel(n_jobs=20)]: Done 410 tasks      | elapsed:    0.6s\n",
      "[Parallel(n_jobs=20)]: Done 600 out of 600 | elapsed:    0.9s finished\n",
      "[Parallel(n_jobs=20)]: Using backend ThreadingBackend with 20 concurrent workers.\n",
      "[Parallel(n_jobs=20)]: Done  10 tasks      | elapsed:    0.1s\n",
      "[Parallel(n_jobs=20)]: Done 160 tasks      | elapsed:    1.1s\n",
      "[Parallel(n_jobs=20)]: Done 410 tasks      | elapsed:    2.7s\n",
      "[Parallel(n_jobs=20)]: Done 600 out of 600 | elapsed:    3.8s finished\n",
      "[Parallel(n_jobs=20)]: Using backend ThreadingBackend with 20 concurrent workers.\n",
      "[Parallel(n_jobs=20)]: Done  10 tasks      | elapsed:    0.0s\n",
      "[Parallel(n_jobs=20)]: Done 160 tasks      | elapsed:    0.2s\n",
      "[Parallel(n_jobs=20)]: Done 410 tasks      | elapsed:    0.6s\n"
     ]
    },
    {
     "name": "stdout",
     "output_type": "stream",
     "text": [
      "C:1 AUC ROC: 0.91\n",
      "C:1 AUC PRC: 0.613\n"
     ]
    },
    {
     "name": "stderr",
     "output_type": "stream",
     "text": [
      "[Parallel(n_jobs=20)]: Done 600 out of 600 | elapsed:    0.8s finished\n"
     ]
    }
   ],
   "source": [
    "metrics_cv = pd.DataFrame(np.zeros((SPLITS, len(names))), columns=names)\n",
    "for c, (train_index, val_index) in enumerate(kf.split(X, y)):\n",
    "\n",
    "        X_train, X_val      = X.iloc[train_index]['SC_full'], X.iloc[val_index]['SC_full']\n",
    "        y_train, y_val      = y.iloc[train_index], y.iloc[val_index] \n",
    "        word_vectorizer.fit(X_train)\n",
    "        train_word_features = word_vectorizer.transform(X_train)\n",
    "        val_word_features   = word_vectorizer.transform(X_val)\n",
    "\n",
    "        le = LabelBinarizer()\n",
    "        le.fit(y_train)\n",
    "\n",
    "        y_train = le.transform(y_train)\n",
    "        y_val = le.transform(y_val)\n",
    "\n",
    "        \n",
    "        classifier          = RandomForestClassifier(n_estimators=600, max_depth=None, max_features='auto', \n",
    "                            min_samples_split=2, verbose = True, n_jobs=20, random_state=RS)\n",
    "        classifier.fit(train_word_features, y_train)\n",
    "        probs = classifier.predict_proba(val_word_features)\n",
    "        \n",
    "        for i, cl in enumerate(le.classes_):\n",
    "            auc_roc_class = roc_auc_score(y_val[:,i], probs[i][:,1])\n",
    "            auc_pr_class = average_precision_score(y_val[:,i], probs[i][:,1])\n",
    "\n",
    "            metrics_cv.loc[c, f'aucroc_{cl}'] = round(auc_roc_class, 3)\n",
    "            metrics_cv.loc[c, f'aucprc_{cl}'] = round(auc_pr_class, 3)   \n",
    "\n",
    "print(f\"C:{c_p} AUC ROC: {round(metrics_cv.loc[:, metrics_cv.columns.str.contains('aucroc')].mean(axis=0).mean(), 3)}\")\n",
    "print(f\"C:{c_p} AUC PRC: {round(metrics_cv.loc[:, metrics_cv.columns.str.contains('aucprc')].mean(axis=0).mean(), 3)}\")"
   ]
  },
  {
   "cell_type": "code",
   "execution_count": 25,
   "metadata": {},
   "outputs": [
    {
     "data": {
      "text/html": [
       "<div>\n",
       "<style scoped>\n",
       "    .dataframe tbody tr th:only-of-type {\n",
       "        vertical-align: middle;\n",
       "    }\n",
       "\n",
       "    .dataframe tbody tr th {\n",
       "        vertical-align: top;\n",
       "    }\n",
       "\n",
       "    .dataframe thead th {\n",
       "        text-align: right;\n",
       "    }\n",
       "</style>\n",
       "<table border=\"1\" class=\"dataframe\">\n",
       "  <thead>\n",
       "    <tr style=\"text-align: right;\">\n",
       "      <th></th>\n",
       "      <th>aucroc_development</th>\n",
       "      <th>aucroc_exchanges</th>\n",
       "      <th>aucroc_finance</th>\n",
       "      <th>aucroc_gambling</th>\n",
       "      <th>aucroc_games</th>\n",
       "      <th>aucroc_high-risk</th>\n",
       "      <th>aucroc_marketplaces</th>\n",
       "      <th>aucroc_media</th>\n",
       "      <th>aucroc_other</th>\n",
       "      <th>aucroc_social</th>\n",
       "      <th>aucprc_development</th>\n",
       "      <th>aucprc_exchanges</th>\n",
       "      <th>aucprc_finance</th>\n",
       "      <th>aucprc_gambling</th>\n",
       "      <th>aucprc_games</th>\n",
       "      <th>aucprc_high-risk</th>\n",
       "      <th>aucprc_marketplaces</th>\n",
       "      <th>aucprc_media</th>\n",
       "      <th>aucprc_other</th>\n",
       "      <th>aucprc_social</th>\n",
       "    </tr>\n",
       "  </thead>\n",
       "  <tbody>\n",
       "    <tr>\n",
       "      <th>0</th>\n",
       "      <td>0.845</td>\n",
       "      <td>0.957</td>\n",
       "      <td>0.927</td>\n",
       "      <td>0.938</td>\n",
       "      <td>0.933</td>\n",
       "      <td>0.951</td>\n",
       "      <td>0.901</td>\n",
       "      <td>0.875</td>\n",
       "      <td>0.865</td>\n",
       "      <td>0.826</td>\n",
       "      <td>0.317</td>\n",
       "      <td>0.928</td>\n",
       "      <td>0.790</td>\n",
       "      <td>0.813</td>\n",
       "      <td>0.881</td>\n",
       "      <td>0.637</td>\n",
       "      <td>0.568</td>\n",
       "      <td>0.341</td>\n",
       "      <td>0.522</td>\n",
       "      <td>0.251</td>\n",
       "    </tr>\n",
       "    <tr>\n",
       "      <th>1</th>\n",
       "      <td>0.894</td>\n",
       "      <td>0.983</td>\n",
       "      <td>0.964</td>\n",
       "      <td>0.937</td>\n",
       "      <td>0.917</td>\n",
       "      <td>0.973</td>\n",
       "      <td>0.833</td>\n",
       "      <td>0.800</td>\n",
       "      <td>0.813</td>\n",
       "      <td>0.804</td>\n",
       "      <td>0.303</td>\n",
       "      <td>0.964</td>\n",
       "      <td>0.894</td>\n",
       "      <td>0.691</td>\n",
       "      <td>0.818</td>\n",
       "      <td>0.699</td>\n",
       "      <td>0.677</td>\n",
       "      <td>0.336</td>\n",
       "      <td>0.335</td>\n",
       "      <td>0.125</td>\n",
       "    </tr>\n",
       "    <tr>\n",
       "      <th>2</th>\n",
       "      <td>0.886</td>\n",
       "      <td>0.983</td>\n",
       "      <td>0.971</td>\n",
       "      <td>0.948</td>\n",
       "      <td>0.945</td>\n",
       "      <td>0.957</td>\n",
       "      <td>0.892</td>\n",
       "      <td>0.916</td>\n",
       "      <td>0.914</td>\n",
       "      <td>0.898</td>\n",
       "      <td>0.389</td>\n",
       "      <td>0.958</td>\n",
       "      <td>0.900</td>\n",
       "      <td>0.825</td>\n",
       "      <td>0.885</td>\n",
       "      <td>0.720</td>\n",
       "      <td>0.473</td>\n",
       "      <td>0.278</td>\n",
       "      <td>0.608</td>\n",
       "      <td>0.332</td>\n",
       "    </tr>\n",
       "    <tr>\n",
       "      <th>3</th>\n",
       "      <td>0.883</td>\n",
       "      <td>0.978</td>\n",
       "      <td>0.952</td>\n",
       "      <td>0.930</td>\n",
       "      <td>0.961</td>\n",
       "      <td>0.974</td>\n",
       "      <td>0.953</td>\n",
       "      <td>0.900</td>\n",
       "      <td>0.909</td>\n",
       "      <td>0.859</td>\n",
       "      <td>0.497</td>\n",
       "      <td>0.963</td>\n",
       "      <td>0.874</td>\n",
       "      <td>0.782</td>\n",
       "      <td>0.900</td>\n",
       "      <td>0.623</td>\n",
       "      <td>0.628</td>\n",
       "      <td>0.246</td>\n",
       "      <td>0.514</td>\n",
       "      <td>0.241</td>\n",
       "    </tr>\n",
       "    <tr>\n",
       "      <th>4</th>\n",
       "      <td>0.839</td>\n",
       "      <td>0.954</td>\n",
       "      <td>0.918</td>\n",
       "      <td>0.957</td>\n",
       "      <td>0.927</td>\n",
       "      <td>0.959</td>\n",
       "      <td>0.867</td>\n",
       "      <td>0.821</td>\n",
       "      <td>0.913</td>\n",
       "      <td>0.803</td>\n",
       "      <td>0.322</td>\n",
       "      <td>0.925</td>\n",
       "      <td>0.780</td>\n",
       "      <td>0.783</td>\n",
       "      <td>0.839</td>\n",
       "      <td>0.668</td>\n",
       "      <td>0.575</td>\n",
       "      <td>0.535</td>\n",
       "      <td>0.515</td>\n",
       "      <td>0.165</td>\n",
       "    </tr>\n",
       "  </tbody>\n",
       "</table>\n",
       "</div>"
      ],
      "text/plain": [
       "   aucroc_development  aucroc_exchanges  aucroc_finance  aucroc_gambling  \\\n",
       "0               0.845             0.957           0.927            0.938   \n",
       "1               0.894             0.983           0.964            0.937   \n",
       "2               0.886             0.983           0.971            0.948   \n",
       "3               0.883             0.978           0.952            0.930   \n",
       "4               0.839             0.954           0.918            0.957   \n",
       "\n",
       "   aucroc_games  aucroc_high-risk  aucroc_marketplaces  aucroc_media  \\\n",
       "0         0.933             0.951                0.901         0.875   \n",
       "1         0.917             0.973                0.833         0.800   \n",
       "2         0.945             0.957                0.892         0.916   \n",
       "3         0.961             0.974                0.953         0.900   \n",
       "4         0.927             0.959                0.867         0.821   \n",
       "\n",
       "   aucroc_other  aucroc_social  aucprc_development  aucprc_exchanges  \\\n",
       "0         0.865          0.826               0.317             0.928   \n",
       "1         0.813          0.804               0.303             0.964   \n",
       "2         0.914          0.898               0.389             0.958   \n",
       "3         0.909          0.859               0.497             0.963   \n",
       "4         0.913          0.803               0.322             0.925   \n",
       "\n",
       "   aucprc_finance  aucprc_gambling  aucprc_games  aucprc_high-risk  \\\n",
       "0           0.790            0.813         0.881             0.637   \n",
       "1           0.894            0.691         0.818             0.699   \n",
       "2           0.900            0.825         0.885             0.720   \n",
       "3           0.874            0.782         0.900             0.623   \n",
       "4           0.780            0.783         0.839             0.668   \n",
       "\n",
       "   aucprc_marketplaces  aucprc_media  aucprc_other  aucprc_social  \n",
       "0                0.568         0.341         0.522          0.251  \n",
       "1                0.677         0.336         0.335          0.125  \n",
       "2                0.473         0.278         0.608          0.332  \n",
       "3                0.628         0.246         0.514          0.241  \n",
       "4                0.575         0.535         0.515          0.165  "
      ]
     },
     "execution_count": 25,
     "metadata": {},
     "output_type": "execute_result"
    }
   ],
   "source": [
    "metrics_cv"
   ]
  },
  {
   "cell_type": "code",
   "execution_count": 26,
   "metadata": {},
   "outputs": [
    {
     "name": "stderr",
     "output_type": "stream",
     "text": [
      "[Parallel(n_jobs=20)]: Using backend ThreadingBackend with 20 concurrent workers.\n",
      "[Parallel(n_jobs=20)]: Done  10 tasks      | elapsed:    0.2s\n",
      "[Parallel(n_jobs=20)]: Done 160 tasks      | elapsed:    1.2s\n",
      "[Parallel(n_jobs=20)]: Done 410 tasks      | elapsed:    2.9s\n",
      "[Parallel(n_jobs=20)]: Done 600 out of 600 | elapsed:    4.1s finished\n",
      "[Parallel(n_jobs=20)]: Using backend ThreadingBackend with 20 concurrent workers.\n",
      "[Parallel(n_jobs=20)]: Done  10 tasks      | elapsed:    0.0s\n",
      "[Parallel(n_jobs=20)]: Done 160 tasks      | elapsed:    0.3s\n",
      "[Parallel(n_jobs=20)]: Done 410 tasks      | elapsed:    0.6s\n",
      "[Parallel(n_jobs=20)]: Done 600 out of 600 | elapsed:    0.9s finished\n"
     ]
    }
   ],
   "source": [
    "# TRAIN ON WHOLE DATA AND PREDICT ON TEST\n",
    "metrics = pd.DataFrame(np.zeros((1,len(names))), columns=names)\n",
    "word_vectorizer.fit(X['SC_full'])\n",
    "train_word_features  = word_vectorizer.transform(X['SC_full'])\n",
    "test_word_features   = word_vectorizer.transform(X_test['SC_full'])\n",
    "\n",
    "le = LabelBinarizer()\n",
    "le.fit(y)\n",
    "\n",
    "y_train = le.transform(y)\n",
    "y_test_lb = le.transform(y_test)\n",
    "\n",
    "\n",
    "classifier = RandomForestClassifier(n_estimators=600, max_depth=None, max_features='auto', \n",
    "                            min_samples_split=2, verbose = True, n_jobs=20, random_state=RS)\n",
    "classifier.fit(train_word_features, y_train)\n",
    "probs      = classifier.predict_proba(test_word_features)\n",
    "\n",
    "for i, cl in enumerate(le.classes_):\n",
    "    auc_roc_class = roc_auc_score(y_test_lb[:,i], probs[i][:,1])\n",
    "    auc_pr_class = average_precision_score(y_test_lb[:,i], probs[i][:,1])\n",
    "\n",
    "    metrics.loc[0, f'aucroc_{cl}'] = round(auc_roc_class, 3)\n",
    "    metrics.loc[0, f'aucprc_{cl}'] = round(auc_pr_class, 3)   "
   ]
  },
  {
   "cell_type": "code",
   "execution_count": 27,
   "metadata": {},
   "outputs": [
    {
     "data": {
      "text/html": [
       "<div>\n",
       "<style scoped>\n",
       "    .dataframe tbody tr th:only-of-type {\n",
       "        vertical-align: middle;\n",
       "    }\n",
       "\n",
       "    .dataframe tbody tr th {\n",
       "        vertical-align: top;\n",
       "    }\n",
       "\n",
       "    .dataframe thead th {\n",
       "        text-align: right;\n",
       "    }\n",
       "</style>\n",
       "<table border=\"1\" class=\"dataframe\">\n",
       "  <thead>\n",
       "    <tr style=\"text-align: right;\">\n",
       "      <th></th>\n",
       "      <th>aucroc_development</th>\n",
       "      <th>aucroc_exchanges</th>\n",
       "      <th>aucroc_finance</th>\n",
       "      <th>aucroc_gambling</th>\n",
       "      <th>aucroc_games</th>\n",
       "      <th>aucroc_high-risk</th>\n",
       "      <th>aucroc_marketplaces</th>\n",
       "      <th>aucroc_media</th>\n",
       "      <th>aucroc_other</th>\n",
       "      <th>aucroc_social</th>\n",
       "      <th>aucprc_development</th>\n",
       "      <th>aucprc_exchanges</th>\n",
       "      <th>aucprc_finance</th>\n",
       "      <th>aucprc_gambling</th>\n",
       "      <th>aucprc_games</th>\n",
       "      <th>aucprc_high-risk</th>\n",
       "      <th>aucprc_marketplaces</th>\n",
       "      <th>aucprc_media</th>\n",
       "      <th>aucprc_other</th>\n",
       "      <th>aucprc_social</th>\n",
       "    </tr>\n",
       "  </thead>\n",
       "  <tbody>\n",
       "    <tr>\n",
       "      <th>0</th>\n",
       "      <td>0.934</td>\n",
       "      <td>0.982</td>\n",
       "      <td>0.954</td>\n",
       "      <td>0.93</td>\n",
       "      <td>0.951</td>\n",
       "      <td>0.966</td>\n",
       "      <td>0.905</td>\n",
       "      <td>0.906</td>\n",
       "      <td>0.925</td>\n",
       "      <td>0.788</td>\n",
       "      <td>0.438</td>\n",
       "      <td>0.968</td>\n",
       "      <td>0.855</td>\n",
       "      <td>0.738</td>\n",
       "      <td>0.908</td>\n",
       "      <td>0.665</td>\n",
       "      <td>0.688</td>\n",
       "      <td>0.566</td>\n",
       "      <td>0.603</td>\n",
       "      <td>0.279</td>\n",
       "    </tr>\n",
       "  </tbody>\n",
       "</table>\n",
       "</div>"
      ],
      "text/plain": [
       "   aucroc_development  aucroc_exchanges  aucroc_finance  aucroc_gambling  \\\n",
       "0               0.934             0.982           0.954             0.93   \n",
       "\n",
       "   aucroc_games  aucroc_high-risk  aucroc_marketplaces  aucroc_media  \\\n",
       "0         0.951             0.966                0.905         0.906   \n",
       "\n",
       "   aucroc_other  aucroc_social  aucprc_development  aucprc_exchanges  \\\n",
       "0         0.925          0.788               0.438             0.968   \n",
       "\n",
       "   aucprc_finance  aucprc_gambling  aucprc_games  aucprc_high-risk  \\\n",
       "0           0.855            0.738         0.908             0.665   \n",
       "\n",
       "   aucprc_marketplaces  aucprc_media  aucprc_other  aucprc_social  \n",
       "0                0.688         0.566         0.603          0.279  "
      ]
     },
     "execution_count": 27,
     "metadata": {},
     "output_type": "execute_result"
    }
   ],
   "source": [
    "metrics"
   ]
  },
  {
   "cell_type": "code",
   "execution_count": 28,
   "metadata": {},
   "outputs": [
    {
     "data": {
      "text/plain": [
       "0    0.924\n",
       "dtype: float64"
      ]
     },
     "execution_count": 28,
     "metadata": {},
     "output_type": "execute_result"
    }
   ],
   "source": [
    "round(metrics.loc[:, metrics.columns.str.contains('aucroc')].mean(axis=1), 3)"
   ]
  },
  {
   "cell_type": "code",
   "execution_count": 29,
   "metadata": {},
   "outputs": [
    {
     "data": {
      "text/plain": [
       "0    0.671\n",
       "dtype: float64"
      ]
     },
     "execution_count": 29,
     "metadata": {},
     "output_type": "execute_result"
    }
   ],
   "source": [
    "round(metrics.loc[:, metrics.columns.str.contains('aucprc')].mean(axis=1), 3)"
   ]
  },
  {
   "cell_type": "markdown",
   "metadata": {},
   "source": [
    "### SVM"
   ]
  },
  {
   "cell_type": "code",
   "execution_count": 30,
   "metadata": {},
   "outputs": [
    {
     "name": "stdout",
     "output_type": "stream",
     "text": [
      "-------------\n",
      "penalty l1\n",
      "alpha 1e-05\n",
      "max_iter 9\n",
      "-------------\n",
      "C:1 AUC ROC: 0.86\n",
      "C:1 AUC PRC: 0.634\n"
     ]
    }
   ],
   "source": [
    "penalty = ['l2', 'l1']\n",
    "alpha = [0.000001, 0.00001, 0.0001, 0.001, 0.01, 0.1]\n",
    "max_iter = [1000, 10000, 15000]\n",
    "\n",
    "# best parameters\n",
    "penalty = ['l1']\n",
    "alpha = [0.00001]\n",
    "max_iter = [1000] \n",
    "\n",
    "for p in penalty:\n",
    "  for a in alpha:\n",
    "    for it in max_iter:\n",
    "      auc = []\n",
    "      roc = []\n",
    "      fscore_ = []\n",
    "      c = 0\n",
    "      # print performance\n",
    "      print(f'-------------')\n",
    "      print(f'penalty {p}')\n",
    "      print(f'alpha {a}')\n",
    "      print(f'max_iter {i}')\n",
    "      print(f'-------------')\n",
    "      \n",
    "    \n",
    "      metrics_cv = pd.DataFrame(np.zeros((SPLITS, len(names))), columns=names)\n",
    "      for c, (train_index, val_index) in enumerate(kf.split(X, y)):\n",
    "\n",
    "            X_train, X_val      = X.iloc[train_index]['SC_full'], X.iloc[val_index]['SC_full']\n",
    "            y_train, y_val      = y.iloc[train_index], y.iloc[val_index] \n",
    "            word_vectorizer.fit(X_train)\n",
    "            train_word_features = word_vectorizer.transform(X_train)\n",
    "            val_word_features   = word_vectorizer.transform(X_val)\n",
    "             \n",
    "            le = LabelBinarizer()\n",
    "            le.fit(y_train)\n",
    "            \n",
    "            y_train = le.transform(y_train)\n",
    "            y_val = le.transform(y_val)\n",
    "            \n",
    "            for i, cl in enumerate(le.classes_):\n",
    "                classifier = SGDClassifier(n_jobs=20, random_state=RS, loss='log', shuffle=False, \n",
    "                                    penalty=p, alpha=a, max_iter=it)\n",
    "                classifier.fit(train_word_features, y_train[:,i])\n",
    "                probs      = classifier.predict_proba(val_word_features)[:,1]\n",
    "                auc_roc_class = roc_auc_score(y_val[:,i], probs)\n",
    "                auc_pr_class = average_precision_score(y_val[:,i], probs)\n",
    "                \n",
    "                metrics_cv.loc[c, f'aucroc_{cl}'] = round(auc_roc_class, 3)\n",
    "                metrics_cv.loc[c, f'aucprc_{cl}'] = round(auc_pr_class, 3)   \n",
    "                \n",
    "    print(f\"C:{c_p} AUC ROC: {round(metrics_cv.loc[:, metrics_cv.columns.str.contains('aucroc')].mean(axis=0).mean(), 3)}\")\n",
    "    print(f\"C:{c_p} AUC PRC: {round(metrics_cv.loc[:, metrics_cv.columns.str.contains('aucprc')].mean(axis=0).mean(), 3)}\")"
   ]
  },
  {
   "cell_type": "code",
   "execution_count": 31,
   "metadata": {},
   "outputs": [
    {
     "data": {
      "text/html": [
       "<div>\n",
       "<style scoped>\n",
       "    .dataframe tbody tr th:only-of-type {\n",
       "        vertical-align: middle;\n",
       "    }\n",
       "\n",
       "    .dataframe tbody tr th {\n",
       "        vertical-align: top;\n",
       "    }\n",
       "\n",
       "    .dataframe thead th {\n",
       "        text-align: right;\n",
       "    }\n",
       "</style>\n",
       "<table border=\"1\" class=\"dataframe\">\n",
       "  <thead>\n",
       "    <tr style=\"text-align: right;\">\n",
       "      <th></th>\n",
       "      <th>aucroc_development</th>\n",
       "      <th>aucroc_exchanges</th>\n",
       "      <th>aucroc_finance</th>\n",
       "      <th>aucroc_gambling</th>\n",
       "      <th>aucroc_games</th>\n",
       "      <th>aucroc_high-risk</th>\n",
       "      <th>aucroc_marketplaces</th>\n",
       "      <th>aucroc_media</th>\n",
       "      <th>aucroc_other</th>\n",
       "      <th>aucroc_social</th>\n",
       "      <th>aucprc_development</th>\n",
       "      <th>aucprc_exchanges</th>\n",
       "      <th>aucprc_finance</th>\n",
       "      <th>aucprc_gambling</th>\n",
       "      <th>aucprc_games</th>\n",
       "      <th>aucprc_high-risk</th>\n",
       "      <th>aucprc_marketplaces</th>\n",
       "      <th>aucprc_media</th>\n",
       "      <th>aucprc_other</th>\n",
       "      <th>aucprc_social</th>\n",
       "    </tr>\n",
       "  </thead>\n",
       "  <tbody>\n",
       "    <tr>\n",
       "      <th>0</th>\n",
       "      <td>0.626</td>\n",
       "      <td>0.947</td>\n",
       "      <td>0.877</td>\n",
       "      <td>0.919</td>\n",
       "      <td>0.938</td>\n",
       "      <td>0.836</td>\n",
       "      <td>0.741</td>\n",
       "      <td>0.788</td>\n",
       "      <td>0.860</td>\n",
       "      <td>0.750</td>\n",
       "      <td>0.309</td>\n",
       "      <td>0.933</td>\n",
       "      <td>0.743</td>\n",
       "      <td>0.794</td>\n",
       "      <td>0.896</td>\n",
       "      <td>0.617</td>\n",
       "      <td>0.593</td>\n",
       "      <td>0.439</td>\n",
       "      <td>0.544</td>\n",
       "      <td>0.448</td>\n",
       "    </tr>\n",
       "    <tr>\n",
       "      <th>1</th>\n",
       "      <td>0.764</td>\n",
       "      <td>0.990</td>\n",
       "      <td>0.961</td>\n",
       "      <td>0.935</td>\n",
       "      <td>0.929</td>\n",
       "      <td>0.952</td>\n",
       "      <td>0.896</td>\n",
       "      <td>0.840</td>\n",
       "      <td>0.823</td>\n",
       "      <td>0.595</td>\n",
       "      <td>0.441</td>\n",
       "      <td>0.978</td>\n",
       "      <td>0.888</td>\n",
       "      <td>0.722</td>\n",
       "      <td>0.858</td>\n",
       "      <td>0.790</td>\n",
       "      <td>0.734</td>\n",
       "      <td>0.412</td>\n",
       "      <td>0.351</td>\n",
       "      <td>0.153</td>\n",
       "    </tr>\n",
       "    <tr>\n",
       "      <th>2</th>\n",
       "      <td>0.826</td>\n",
       "      <td>0.960</td>\n",
       "      <td>0.963</td>\n",
       "      <td>0.857</td>\n",
       "      <td>0.944</td>\n",
       "      <td>0.915</td>\n",
       "      <td>0.834</td>\n",
       "      <td>0.722</td>\n",
       "      <td>0.884</td>\n",
       "      <td>0.718</td>\n",
       "      <td>0.380</td>\n",
       "      <td>0.949</td>\n",
       "      <td>0.900</td>\n",
       "      <td>0.723</td>\n",
       "      <td>0.878</td>\n",
       "      <td>0.706</td>\n",
       "      <td>0.466</td>\n",
       "      <td>0.258</td>\n",
       "      <td>0.602</td>\n",
       "      <td>0.244</td>\n",
       "    </tr>\n",
       "    <tr>\n",
       "      <th>3</th>\n",
       "      <td>0.900</td>\n",
       "      <td>0.961</td>\n",
       "      <td>0.970</td>\n",
       "      <td>0.921</td>\n",
       "      <td>0.962</td>\n",
       "      <td>0.904</td>\n",
       "      <td>0.934</td>\n",
       "      <td>0.676</td>\n",
       "      <td>0.822</td>\n",
       "      <td>0.684</td>\n",
       "      <td>0.657</td>\n",
       "      <td>0.961</td>\n",
       "      <td>0.910</td>\n",
       "      <td>0.797</td>\n",
       "      <td>0.914</td>\n",
       "      <td>0.697</td>\n",
       "      <td>0.740</td>\n",
       "      <td>0.155</td>\n",
       "      <td>0.504</td>\n",
       "      <td>0.241</td>\n",
       "    </tr>\n",
       "    <tr>\n",
       "      <th>4</th>\n",
       "      <td>0.628</td>\n",
       "      <td>0.963</td>\n",
       "      <td>0.916</td>\n",
       "      <td>0.943</td>\n",
       "      <td>0.924</td>\n",
       "      <td>0.931</td>\n",
       "      <td>0.868</td>\n",
       "      <td>0.860</td>\n",
       "      <td>0.819</td>\n",
       "      <td>0.806</td>\n",
       "      <td>0.406</td>\n",
       "      <td>0.948</td>\n",
       "      <td>0.814</td>\n",
       "      <td>0.800</td>\n",
       "      <td>0.866</td>\n",
       "      <td>0.685</td>\n",
       "      <td>0.621</td>\n",
       "      <td>0.486</td>\n",
       "      <td>0.492</td>\n",
       "      <td>0.233</td>\n",
       "    </tr>\n",
       "  </tbody>\n",
       "</table>\n",
       "</div>"
      ],
      "text/plain": [
       "   aucroc_development  aucroc_exchanges  aucroc_finance  aucroc_gambling  \\\n",
       "0               0.626             0.947           0.877            0.919   \n",
       "1               0.764             0.990           0.961            0.935   \n",
       "2               0.826             0.960           0.963            0.857   \n",
       "3               0.900             0.961           0.970            0.921   \n",
       "4               0.628             0.963           0.916            0.943   \n",
       "\n",
       "   aucroc_games  aucroc_high-risk  aucroc_marketplaces  aucroc_media  \\\n",
       "0         0.938             0.836                0.741         0.788   \n",
       "1         0.929             0.952                0.896         0.840   \n",
       "2         0.944             0.915                0.834         0.722   \n",
       "3         0.962             0.904                0.934         0.676   \n",
       "4         0.924             0.931                0.868         0.860   \n",
       "\n",
       "   aucroc_other  aucroc_social  aucprc_development  aucprc_exchanges  \\\n",
       "0         0.860          0.750               0.309             0.933   \n",
       "1         0.823          0.595               0.441             0.978   \n",
       "2         0.884          0.718               0.380             0.949   \n",
       "3         0.822          0.684               0.657             0.961   \n",
       "4         0.819          0.806               0.406             0.948   \n",
       "\n",
       "   aucprc_finance  aucprc_gambling  aucprc_games  aucprc_high-risk  \\\n",
       "0           0.743            0.794         0.896             0.617   \n",
       "1           0.888            0.722         0.858             0.790   \n",
       "2           0.900            0.723         0.878             0.706   \n",
       "3           0.910            0.797         0.914             0.697   \n",
       "4           0.814            0.800         0.866             0.685   \n",
       "\n",
       "   aucprc_marketplaces  aucprc_media  aucprc_other  aucprc_social  \n",
       "0                0.593         0.439         0.544          0.448  \n",
       "1                0.734         0.412         0.351          0.153  \n",
       "2                0.466         0.258         0.602          0.244  \n",
       "3                0.740         0.155         0.504          0.241  \n",
       "4                0.621         0.486         0.492          0.233  "
      ]
     },
     "execution_count": 31,
     "metadata": {},
     "output_type": "execute_result"
    }
   ],
   "source": [
    "metrics_cv"
   ]
  },
  {
   "cell_type": "code",
   "execution_count": 32,
   "metadata": {},
   "outputs": [
    {
     "data": {
      "text/plain": [
       "aucroc_development     0.749\n",
       "aucroc_exchanges       0.964\n",
       "aucroc_finance         0.937\n",
       "aucroc_gambling        0.915\n",
       "aucroc_games           0.939\n",
       "aucroc_high-risk       0.908\n",
       "aucroc_marketplaces    0.855\n",
       "aucroc_media           0.777\n",
       "aucroc_other           0.842\n",
       "aucroc_social          0.711\n",
       "dtype: float64"
      ]
     },
     "execution_count": 32,
     "metadata": {},
     "output_type": "execute_result"
    }
   ],
   "source": [
    "round(metrics_cv.loc[:, metrics_cv.columns.str.contains('aucroc')].mean(axis=0), 3)"
   ]
  },
  {
   "cell_type": "code",
   "execution_count": 33,
   "metadata": {},
   "outputs": [
    {
     "data": {
      "text/plain": [
       "aucprc_development     0.439\n",
       "aucprc_exchanges       0.954\n",
       "aucprc_finance         0.851\n",
       "aucprc_gambling        0.767\n",
       "aucprc_games           0.882\n",
       "aucprc_high-risk       0.699\n",
       "aucprc_marketplaces    0.631\n",
       "aucprc_media           0.350\n",
       "aucprc_other           0.499\n",
       "aucprc_social          0.264\n",
       "dtype: float64"
      ]
     },
     "execution_count": 33,
     "metadata": {},
     "output_type": "execute_result"
    }
   ],
   "source": [
    "round(metrics_cv.loc[:, metrics_cv.columns.str.contains('aucprc')].mean(axis=0), 3)"
   ]
  },
  {
   "cell_type": "code",
   "execution_count": 34,
   "metadata": {},
   "outputs": [],
   "source": [
    "# TRAIN ON WHOLE DATA AND PREDICT ON TEST\n",
    "metrics = pd.DataFrame(np.zeros((1,len(names))), columns=names)\n",
    "word_vectorizer.fit(X['SC_full'])\n",
    "train_word_features  = word_vectorizer.transform(X['SC_full'])\n",
    "test_word_features   = word_vectorizer.transform(X_test['SC_full'])\n",
    "\n",
    "le = LabelBinarizer()\n",
    "le.fit(y)\n",
    "\n",
    "y_train = le.transform(y)\n",
    "y_test_lb = le.transform(y_test)\n",
    "\n",
    "for i, cl in enumerate(le.classes_):\n",
    "    classifier = SGDClassifier(n_jobs=20, random_state=RS, loss='log', shuffle=False, \n",
    "                                    penalty=penalty[0], alpha=alpha[0], max_iter=max_iter[0])\n",
    "    classifier.fit(train_word_features, y_train[:,i])\n",
    "    probs      = classifier.predict_proba(test_word_features)[:,1]\n",
    "    auc_roc_class = roc_auc_score(y_test_lb[:,i], probs)\n",
    "    auc_pr_class = average_precision_score(y_test_lb[:,i], probs)\n",
    "\n",
    "    metrics.loc[0, f'aucroc_{cl}'] = round(auc_roc_class, 3)\n",
    "    metrics.loc[0, f'aucprc_{cl}'] = round(auc_pr_class, 3)   "
   ]
  },
  {
   "cell_type": "code",
   "execution_count": 35,
   "metadata": {},
   "outputs": [
    {
     "data": {
      "text/html": [
       "<div>\n",
       "<style scoped>\n",
       "    .dataframe tbody tr th:only-of-type {\n",
       "        vertical-align: middle;\n",
       "    }\n",
       "\n",
       "    .dataframe tbody tr th {\n",
       "        vertical-align: top;\n",
       "    }\n",
       "\n",
       "    .dataframe thead th {\n",
       "        text-align: right;\n",
       "    }\n",
       "</style>\n",
       "<table border=\"1\" class=\"dataframe\">\n",
       "  <thead>\n",
       "    <tr style=\"text-align: right;\">\n",
       "      <th></th>\n",
       "      <th>aucroc_development</th>\n",
       "      <th>aucroc_exchanges</th>\n",
       "      <th>aucroc_finance</th>\n",
       "      <th>aucroc_gambling</th>\n",
       "      <th>aucroc_games</th>\n",
       "      <th>aucroc_high-risk</th>\n",
       "      <th>aucroc_marketplaces</th>\n",
       "      <th>aucroc_media</th>\n",
       "      <th>aucroc_other</th>\n",
       "      <th>aucroc_social</th>\n",
       "      <th>aucprc_development</th>\n",
       "      <th>aucprc_exchanges</th>\n",
       "      <th>aucprc_finance</th>\n",
       "      <th>aucprc_gambling</th>\n",
       "      <th>aucprc_games</th>\n",
       "      <th>aucprc_high-risk</th>\n",
       "      <th>aucprc_marketplaces</th>\n",
       "      <th>aucprc_media</th>\n",
       "      <th>aucprc_other</th>\n",
       "      <th>aucprc_social</th>\n",
       "    </tr>\n",
       "  </thead>\n",
       "  <tbody>\n",
       "    <tr>\n",
       "      <th>0</th>\n",
       "      <td>0.733</td>\n",
       "      <td>0.971</td>\n",
       "      <td>0.949</td>\n",
       "      <td>0.901</td>\n",
       "      <td>0.959</td>\n",
       "      <td>0.942</td>\n",
       "      <td>0.87</td>\n",
       "      <td>0.948</td>\n",
       "      <td>0.89</td>\n",
       "      <td>0.646</td>\n",
       "      <td>0.32</td>\n",
       "      <td>0.963</td>\n",
       "      <td>0.873</td>\n",
       "      <td>0.742</td>\n",
       "      <td>0.935</td>\n",
       "      <td>0.562</td>\n",
       "      <td>0.679</td>\n",
       "      <td>0.667</td>\n",
       "      <td>0.546</td>\n",
       "      <td>0.267</td>\n",
       "    </tr>\n",
       "  </tbody>\n",
       "</table>\n",
       "</div>"
      ],
      "text/plain": [
       "   aucroc_development  aucroc_exchanges  aucroc_finance  aucroc_gambling  \\\n",
       "0               0.733             0.971           0.949            0.901   \n",
       "\n",
       "   aucroc_games  aucroc_high-risk  aucroc_marketplaces  aucroc_media  \\\n",
       "0         0.959             0.942                 0.87         0.948   \n",
       "\n",
       "   aucroc_other  aucroc_social  aucprc_development  aucprc_exchanges  \\\n",
       "0          0.89          0.646                0.32             0.963   \n",
       "\n",
       "   aucprc_finance  aucprc_gambling  aucprc_games  aucprc_high-risk  \\\n",
       "0           0.873            0.742         0.935             0.562   \n",
       "\n",
       "   aucprc_marketplaces  aucprc_media  aucprc_other  aucprc_social  \n",
       "0                0.679         0.667         0.546          0.267  "
      ]
     },
     "execution_count": 35,
     "metadata": {},
     "output_type": "execute_result"
    }
   ],
   "source": [
    "metrics"
   ]
  }
 ],
 "metadata": {
  "kernelspec": {
   "display_name": "Python 3",
   "language": "python",
   "name": "python3"
  },
  "language_info": {
   "codemirror_mode": {
    "name": "ipython",
    "version": 3
   },
   "file_extension": ".py",
   "mimetype": "text/x-python",
   "name": "python",
   "nbconvert_exporter": "python",
   "pygments_lexer": "ipython3",
   "version": "3.8.3"
  }
 },
 "nbformat": 4,
 "nbformat_minor": 4
}
