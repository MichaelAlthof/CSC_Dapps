{
 "cells": [
  {
   "cell_type": "code",
   "execution_count": 1,
   "metadata": {},
   "outputs": [],
   "source": [
    "import numpy as np\n",
    "import matplotlib.pyplot as plt\n",
    "%matplotlib inline\n",
    "import os\n",
    "import pandas as pd\n",
    "from sklearn.model_selection import StratifiedKFold, cross_val_score, train_test_split, KFold\n",
    "import random\n",
    "\n",
    "from sklearn import metrics\n",
    "from collections import Counter\n",
    "import argparse\n",
    "from sklearn.feature_extraction.text import TfidfVectorizer\n",
    "from sklearn.preprocessing import LabelEncoder, LabelBinarizer\n",
    "from sklearn.manifold import TSNE\n",
    "from sklearn.decomposition import PCA\n",
    "import seaborn as sns"
   ]
  },
  {
   "cell_type": "code",
   "execution_count": 2,
   "metadata": {},
   "outputs": [],
   "source": [
    "data = pd.read_csv(\"../CSC_Dapp_classification/dapps_with_features_v4.csv\")"
   ]
  },
  {
   "cell_type": "code",
   "execution_count": 3,
   "metadata": {},
   "outputs": [],
   "source": [
    "categories = data.category"
   ]
  },
  {
   "cell_type": "code",
   "execution_count": 4,
   "metadata": {},
   "outputs": [],
   "source": [
    "SEED = 42"
   ]
  },
  {
   "cell_type": "code",
   "execution_count": null,
   "metadata": {},
   "outputs": [],
   "source": [
    "for i, f in enumerate(range(10000, 100000, 10000)):\n",
    "    word_vectorizer   = TfidfVectorizer(\n",
    "    sublinear_tf  = True,\n",
    "    strip_accents = 'unicode',\n",
    "    analyzer      = 'word',\n",
    "    token_pattern = r'\\w{1,}',\n",
    "    #stop_words    = 'english',\n",
    "    ngram_range   = (1, 1),\n",
    "    max_features  = f) # max 144018\n",
    "    \n",
    "    word_vectorizer.fit(data.SC_full)\n",
    "    word_features = word_vectorizer.transform(data.SC_full)\n",
    "    X = word_features\n",
    "    \n",
    "    # t-SNE on 2-dimensions\n",
    "    tsne = TSNE(n_components=2, random_state=SEED)\n",
    "    tsne.fit(X)\n",
    "    tsne_X = tsne.fit_transform(X)\n",
    "\n",
    "    # Plot data with dimensionality reduction PCA\n",
    "    fig = plt.figure(figsize=(10, 10))\n",
    "    ax = sns.scatterplot(x=tsne_X[:,0], y=tsne_X[:,1], hue=categories)\n",
    "    ax.get_legend().remove()\n",
    "    ax.set_facecolor(('#F7F6F7'))\n",
    "    plt.xlim((-100, 100))\n",
    "    plt.ylim((-100, 100))\n",
    "    #plt.scatter(tsne_X[:,0], tsne_X[:,0], c=y_color, marker='o')\n",
    "\n",
    "    plt.xlabel('Component 1')\n",
    "    plt.ylabel('Component 2')\n",
    "    plt.title(f'Reduced to 2D using t-SNE {f} features')\n",
    "\n",
    "    plt.savefig(f'./img_fc/tsne_reduce_{i}.png', facecolor='#fefefe')#transparent=True)"
   ]
  }
 ],
 "metadata": {
  "kernelspec": {
   "display_name": "Python 3",
   "language": "python",
   "name": "python3"
  },
  "language_info": {
   "codemirror_mode": {
    "name": "ipython",
    "version": 3
   },
   "file_extension": ".py",
   "mimetype": "text/x-python",
   "name": "python",
   "nbconvert_exporter": "python",
   "pygments_lexer": "ipython3",
   "version": "3.8.3"
  }
 },
 "nbformat": 4,
 "nbformat_minor": 4
}
