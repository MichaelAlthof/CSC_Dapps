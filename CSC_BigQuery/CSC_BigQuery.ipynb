{
 "cells": [
  {
   "cell_type": "markdown",
   "metadata": {},
   "source": [
    "### Please use this code as a notebook at Kaggle https://www.kaggle.com/bigquery/ethereum-blockchain"
   ]
  },
  {
   "cell_type": "code",
   "execution_count": 1,
   "metadata": {
    "_cell_guid": "b1076dfc-b9ad-4769-8c92-a6c4dae69d19",
    "_uuid": "8f2839f25d086af736a60e9eeb907d3b93b6e0e5"
   },
   "outputs": [
    {
     "name": "stdout",
     "output_type": "stream",
     "text": [
      "Using Kaggle's public dataset BigQuery integration.\n"
     ]
    }
   ],
   "source": [
    "from google.cloud import bigquery\n",
    "import pandas as pd\n",
    "\n",
    "client = bigquery.Client()\n",
    "\n",
    "query = \"\"\"\n",
    "SELECT \n",
    "  `address`, `is_erc20`, `is_erc721`, `block_timestamp`\n",
    "FROM\n",
    "  `bigquery-public-data.crypto_ethereum.contracts` AS contacts\n",
    "\"\"\""
   ]
  },
  {
   "cell_type": "code",
   "execution_count": 2,
   "metadata": {},
   "outputs": [
    {
     "name": "stdout",
     "output_type": "stream",
     "text": [
      "Using Kaggle's public dataset BigQuery integration.\n",
      "balances\n",
      "blocks\n",
      "contracts\n",
      "logs\n",
      "token_transfers\n",
      "tokens\n",
      "traces\n",
      "transactions\n"
     ]
    }
   ],
   "source": [
    "\n",
    "# Create a \"Client\" object\n",
    "client = bigquery.Client()\n",
    "\n",
    "# Construct a reference to the \"crypto_ethereum\" dataset \n",
    "dataset_ref = client.dataset(\"crypto_ethereum\", project=\"bigquery-public-data\")\n",
    "\n",
    "# API request - fetch the dataset\n",
    "dataset = client.get_dataset(dataset_ref)\n",
    "\n",
    "# List all the tables in the \"crypto_ethereum\" dataset\n",
    "tables = list(client.list_tables(dataset))\n",
    "\n",
    "# Print names of all tables in the dataset (there's only one!)\n",
    "for table in tables:  \n",
    "    print(table.table_id)"
   ]
  },
  {
   "cell_type": "code",
   "execution_count": 3,
   "metadata": {
    "_cell_guid": "79c7e3d0-c299-4dcb-8224-4455121ee9b0",
    "_uuid": "d629ff2d2480ee46fbb7e2d37f6b5fab8052498a"
   },
   "outputs": [
    {
     "data": {
      "text/html": [
       "<div>\n",
       "<style scoped>\n",
       "    .dataframe tbody tr th:only-of-type {\n",
       "        vertical-align: middle;\n",
       "    }\n",
       "\n",
       "    .dataframe tbody tr th {\n",
       "        vertical-align: top;\n",
       "    }\n",
       "\n",
       "    .dataframe thead th {\n",
       "        text-align: right;\n",
       "    }\n",
       "</style>\n",
       "<table border=\"1\" class=\"dataframe\">\n",
       "  <thead>\n",
       "    <tr style=\"text-align: right;\">\n",
       "      <th></th>\n",
       "      <th>address</th>\n",
       "      <th>is_erc20</th>\n",
       "      <th>is_erc721</th>\n",
       "      <th>block_timestamp</th>\n",
       "    </tr>\n",
       "  </thead>\n",
       "  <tbody>\n",
       "    <tr>\n",
       "      <th>0</th>\n",
       "      <td>0xd770590eb13fef94f73ec4ffc847c5d93f95e083</td>\n",
       "      <td>False</td>\n",
       "      <td>False</td>\n",
       "      <td>2017-02-07 20:28:45+00:00</td>\n",
       "    </tr>\n",
       "    <tr>\n",
       "      <th>1</th>\n",
       "      <td>0xe60419e392477d5b9f992dd8aea6f5f1afa3158f</td>\n",
       "      <td>False</td>\n",
       "      <td>False</td>\n",
       "      <td>2017-02-07 19:36:17+00:00</td>\n",
       "    </tr>\n",
       "    <tr>\n",
       "      <th>2</th>\n",
       "      <td>0xd3771ebffee56b7fd2dd55af5637eb87aa570b66</td>\n",
       "      <td>False</td>\n",
       "      <td>False</td>\n",
       "      <td>2017-02-07 22:59:37+00:00</td>\n",
       "    </tr>\n",
       "    <tr>\n",
       "      <th>3</th>\n",
       "      <td>0x0bea4f7ee7dbd9cccfba4b2e7a178dfc1e877723</td>\n",
       "      <td>False</td>\n",
       "      <td>False</td>\n",
       "      <td>2017-02-07 23:00:46+00:00</td>\n",
       "    </tr>\n",
       "    <tr>\n",
       "      <th>4</th>\n",
       "      <td>0x44bf53e40e5ba00ce6c547ef0c4c3f2bdee77d25</td>\n",
       "      <td>False</td>\n",
       "      <td>False</td>\n",
       "      <td>2017-02-07 13:09:43+00:00</td>\n",
       "    </tr>\n",
       "    <tr>\n",
       "      <th>5</th>\n",
       "      <td>0x9ccfcfeb1d4d7c1b06dccd41ecba9dcad239c45b</td>\n",
       "      <td>False</td>\n",
       "      <td>False</td>\n",
       "      <td>2017-02-07 04:36:58+00:00</td>\n",
       "    </tr>\n",
       "    <tr>\n",
       "      <th>6</th>\n",
       "      <td>0xbc3bf058662927f6c1d7b149b14552c9ed3bd050</td>\n",
       "      <td>False</td>\n",
       "      <td>False</td>\n",
       "      <td>2017-02-07 12:47:26+00:00</td>\n",
       "    </tr>\n",
       "    <tr>\n",
       "      <th>7</th>\n",
       "      <td>0x145b0a0d6d53190fea8ee0d9d881e86aa8b77ed4</td>\n",
       "      <td>False</td>\n",
       "      <td>False</td>\n",
       "      <td>2017-02-07 04:00:47+00:00</td>\n",
       "    </tr>\n",
       "    <tr>\n",
       "      <th>8</th>\n",
       "      <td>0x2ff3daa0ce42d81967ef1691c0d6d31112b9c757</td>\n",
       "      <td>False</td>\n",
       "      <td>False</td>\n",
       "      <td>2017-02-07 11:33:56+00:00</td>\n",
       "    </tr>\n",
       "    <tr>\n",
       "      <th>9</th>\n",
       "      <td>0x81046a4fe5005a148ea390838a530517119e9308</td>\n",
       "      <td>False</td>\n",
       "      <td>False</td>\n",
       "      <td>2017-02-07 08:37:28+00:00</td>\n",
       "    </tr>\n",
       "  </tbody>\n",
       "</table>\n",
       "</div>"
      ],
      "text/plain": [
       "                                      address            ...                      block_timestamp\n",
       "0  0xd770590eb13fef94f73ec4ffc847c5d93f95e083            ...            2017-02-07 20:28:45+00:00\n",
       "1  0xe60419e392477d5b9f992dd8aea6f5f1afa3158f            ...            2017-02-07 19:36:17+00:00\n",
       "2  0xd3771ebffee56b7fd2dd55af5637eb87aa570b66            ...            2017-02-07 22:59:37+00:00\n",
       "3  0x0bea4f7ee7dbd9cccfba4b2e7a178dfc1e877723            ...            2017-02-07 23:00:46+00:00\n",
       "4  0x44bf53e40e5ba00ce6c547ef0c4c3f2bdee77d25            ...            2017-02-07 13:09:43+00:00\n",
       "5  0x9ccfcfeb1d4d7c1b06dccd41ecba9dcad239c45b            ...            2017-02-07 04:36:58+00:00\n",
       "6  0xbc3bf058662927f6c1d7b149b14552c9ed3bd050            ...            2017-02-07 12:47:26+00:00\n",
       "7  0x145b0a0d6d53190fea8ee0d9d881e86aa8b77ed4            ...            2017-02-07 04:00:47+00:00\n",
       "8  0x2ff3daa0ce42d81967ef1691c0d6d31112b9c757            ...            2017-02-07 11:33:56+00:00\n",
       "9  0x81046a4fe5005a148ea390838a530517119e9308            ...            2017-02-07 08:37:28+00:00\n",
       "\n",
       "[10 rows x 4 columns]"
      ]
     },
     "execution_count": 3,
     "metadata": {},
     "output_type": "execute_result"
    }
   ],
   "source": [
    "query_job = client.query(query)\n",
    "\n",
    "iterator = query_job.result(timeout=30)\n",
    "rows = list(iterator)\n",
    "\n",
    "# Transform the rows into a nice pandas dataframe\n",
    "df = pd.DataFrame(data=[list(x.values()) for x in rows], columns=list(rows[0].keys()))\n",
    "\n",
    "# Look at the first 10\n",
    "df.head(10)"
   ]
  },
  {
   "cell_type": "markdown",
   "metadata": {
    "_uuid": "ca6d9ec8bd8bdbd50f16b8c949ab7ee1e47e6abe"
   },
   "source": [
    "To make querying BigQuery datasets even easier on Kaggle, we have also written some helper functions that are packaged in the [BigQueryHelper module](https://github.com/SohierDane/BigQuery_Helper/blob/master/bq_helper.py) available in Kernels. I'll replicate the code above using the wrapper functions below. Because our query results are cached by default, we don't need to worry about spending more quota by executing the query twice."
   ]
  },
  {
   "cell_type": "code",
   "execution_count": 4,
   "metadata": {
    "_uuid": "ea577a2a1d744e4a8aa308f0b87bf448cdec113b"
   },
   "outputs": [],
   "source": [
    "df.to_csv(\"ethereum_contracts.csv\", index=False)"
   ]
  }
 ],
 "metadata": {
  "kernelspec": {
   "display_name": "Python 3",
   "language": "python",
   "name": "python3"
  },
  "language_info": {
   "codemirror_mode": {
    "name": "ipython",
    "version": 3
   },
   "file_extension": ".py",
   "mimetype": "text/x-python",
   "name": "python",
   "nbconvert_exporter": "python",
   "pygments_lexer": "ipython3",
   "version": "3.8.3"
  }
 },
 "nbformat": 4,
 "nbformat_minor": 4
}
