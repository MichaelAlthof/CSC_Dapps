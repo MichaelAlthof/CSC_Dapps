{
 "cells": [
  {
   "cell_type": "markdown",
   "metadata": {},
   "source": [
    "# Search for derivatives"
   ]
  },
  {
   "cell_type": "code",
   "execution_count": 7,
   "metadata": {},
   "outputs": [],
   "source": [
    "import os\n",
    "import numpy as np\n",
    "import pandas as pd\n",
    "import re"
   ]
  },
  {
   "cell_type": "code",
   "execution_count": 8,
   "metadata": {},
   "outputs": [],
   "source": [
    "FILES = os.listdir('../data/sol_source')"
   ]
  },
  {
   "cell_type": "code",
   "execution_count": 9,
   "metadata": {},
   "outputs": [],
   "source": [
    "df = pd.DataFrame(columns=['address', 'source_code'])"
   ]
  },
  {
   "cell_type": "code",
   "execution_count": 12,
   "metadata": {},
   "outputs": [
    {
     "name": "stdout",
     "output_type": "stream",
     "text": [
      "0\n",
      "1000\n",
      "2000\n",
      "3000\n",
      "4000\n",
      "5000\n",
      "6000\n",
      "7000\n",
      "8000\n",
      "9000\n",
      "10000\n",
      "11000\n",
      "12000\n",
      "13000\n",
      "14000\n",
      "15000\n",
      "16000\n",
      "17000\n",
      "18000\n",
      "19000\n",
      "20000\n",
      "21000\n",
      "22000\n",
      "23000\n",
      "24000\n",
      "25000\n",
      "26000\n",
      "27000\n",
      "28000\n",
      "29000\n",
      "30000\n",
      "31000\n",
      "Parsing finished\n"
     ]
    }
   ],
   "source": [
    "for i, f in enumerate(FILES):\n",
    "    if i % 1000 == 0 :    \n",
    "        print(i)    \n",
    "     \n",
    "    try:\n",
    "            with open(f'../data/sol_source/{f}') as file:  \n",
    "                data = file.read()\n",
    "            df_temp    = pd.DataFrame(data = {'address' : f.split('_')[0],  'source_code': data}, index=[0])\n",
    "            df = pd.concat([df, df_temp])\n",
    "    except:\n",
    "           pass\n",
    "            # print(f, ' is empty')\n",
    "print('Parsing finished')"
   ]
  },
  {
   "cell_type": "code",
   "execution_count": 15,
   "metadata": {},
   "outputs": [],
   "source": [
    "FILES_IN_SOL = [f.split('_')[0] for f in FILES]\n",
    "NOT_LOADED = list(set(FILES_IN_SOL) - set(df.address))\n",
    "NOT_LOADED_F = []\n",
    "for file in NOT_LOADED:\n",
    "    matching = [s for s in FILES if file in s]\n",
    "    NOT_LOADED_F.append(matching)"
   ]
  },
  {
   "cell_type": "code",
   "execution_count": 35,
   "metadata": {},
   "outputs": [
    {
     "name": "stdout",
     "output_type": "stream",
     "text": [
      "0\n",
      "Parsing finished\n"
     ]
    }
   ],
   "source": [
    "for i, f in enumerate(NOT_LOADED_F):\n",
    "    if i % 1000 == 0 :    \n",
    "        print(i)    \n",
    "     \n",
    "   # try:\n",
    "    with open(f'../data/sol_source/{f[0]}', encoding='utf8') as file:  \n",
    "        data = file.read()\n",
    "    df_temp    = pd.DataFrame(data = {'address' : f[0].split('_')[0],  'source_code': data}, index=[0])\n",
    "    df = pd.concat([df, df_temp])\n",
    "# except:\n",
    "   #        pass\n",
    "            # print(f, ' is empty')\n",
    "print('Parsing finished')"
   ]
  },
  {
   "cell_type": "code",
   "execution_count": 37,
   "metadata": {},
   "outputs": [
    {
     "data": {
      "text/plain": [
       "(31163, 2)"
      ]
     },
     "execution_count": 37,
     "metadata": {},
     "output_type": "execute_result"
    }
   ],
   "source": [
    "df.shape"
   ]
  },
  {
   "cell_type": "code",
   "execution_count": 38,
   "metadata": {},
   "outputs": [],
   "source": [
    "df.to_csv(\"../data/source_codes_31163_contracts.csv\", index=False)"
   ]
  },
  {
   "cell_type": "code",
   "execution_count": null,
   "metadata": {},
   "outputs": [],
   "source": []
  }
 ],
 "metadata": {
  "kernelspec": {
   "display_name": "Python 3",
   "language": "python",
   "name": "python3"
  },
  "language_info": {
   "codemirror_mode": {
    "name": "ipython",
    "version": 3
   },
   "file_extension": ".py",
   "mimetype": "text/x-python",
   "name": "python",
   "nbconvert_exporter": "python",
   "pygments_lexer": "ipython3",
   "version": "3.7.4"
  }
 },
 "nbformat": 4,
 "nbformat_minor": 4
}
