{
 "cells": [
  {
   "cell_type": "code",
   "execution_count": 1,
   "metadata": {},
   "outputs": [],
   "source": [
    "# Used Etherscan.io APIs\""
   ]
  },
  {
   "cell_type": "code",
   "execution_count": 6,
   "metadata": {},
   "outputs": [],
   "source": [
    "import requests\n",
    "import pandas as pd\n",
    "import numpy as np\n",
    "import sys\n",
    "import time\n",
    "import os\n",
    "%matplotlib inline\n",
    "import matplotlib.pyplot as plt"
   ]
  },
  {
   "cell_type": "code",
   "execution_count": 7,
   "metadata": {},
   "outputs": [],
   "source": [
    "### Load List of Contracts"
   ]
  },
  {
   "cell_type": "code",
   "execution_count": 22,
   "metadata": {},
   "outputs": [],
   "source": [
    "contract = pd.read_csv(\"../CSC_Dapp_scraping/dapps.csv\")\n",
    "contract = contract[contract.hash!='0']"
   ]
  },
  {
   "cell_type": "code",
   "execution_count": 26,
   "metadata": {},
   "outputs": [],
   "source": [
    "# contants\n",
    "with open(\"token.txt\") as file:  \n",
    "    API_Token = file.read() "
   ]
  },
  {
   "cell_type": "code",
   "execution_count": 28,
   "metadata": {},
   "outputs": [],
   "source": [
    "ADDRESS_ARRAY = contract.hash.values"
   ]
  },
  {
   "cell_type": "markdown",
   "metadata": {},
   "source": [
    "### Create Folders"
   ]
  },
  {
   "cell_type": "code",
   "execution_count": 35,
   "metadata": {},
   "outputs": [],
   "source": [
    "sol_source = './sol_source'"
   ]
  },
  {
   "cell_type": "code",
   "execution_count": 36,
   "metadata": {},
   "outputs": [],
   "source": [
    "if not os.path.exists(sol_source):\n",
    "    os.mkdir(sol_source)"
   ]
  },
  {
   "cell_type": "code",
   "execution_count": 37,
   "metadata": {},
   "outputs": [],
   "source": [
    "files_in_sol = os.listdir(f\"./sol_source/\")\n",
    "files_in_sol = [i.split('_')[0] for i  in files_in_sol]\n",
    "files_in_sol = set(files_in_sol)"
   ]
  },
  {
   "cell_type": "code",
   "execution_count": 42,
   "metadata": {},
   "outputs": [],
   "source": [
    "from tqdm import tqdm"
   ]
  },
  {
   "cell_type": "code",
   "execution_count": 48,
   "metadata": {},
   "outputs": [],
   "source": [
    "def scrape_ether_contract_and_write(address_array, API_Token):\n",
    "    c = 0\n",
    "    for i, address in tqdm(enumerate(address_array)):\n",
    "        if address in files_in_sol:\n",
    "            continue\n",
    "        else: \n",
    "            # time.sleep(0.01) # we can do 5 GET/POST requests per sec\n",
    "            url = f'https://api.etherscan.io/api?module=contract&action=getsourcecode&address={address}&apikey={API_Token}'\n",
    "            resp = requests.get(url=url)\n",
    "            data = resp.json()\n",
    "            try:\n",
    "                contract_name = data['result'][0]['ContractName']\n",
    "\n",
    "                # save solidity source code\n",
    "                with open(f\"./sol_source/{address}_{contract_name}.sol\", \"w\", encoding=\"utf-8\") as f:\n",
    "                    print(data['result'][0]['SourceCode'], file=f)\n",
    "\n",
    "            except:\n",
    "                c += 1\n",
    "                time.sleep(0.25)\n",
    "                    \n",
    "    print(f'did not work {c} times')"
   ]
  },
  {
   "cell_type": "code",
   "execution_count": 49,
   "metadata": {},
   "outputs": [
    {
     "name": "stderr",
     "output_type": "stream",
     "text": [
      "\n",
      "0it [00:00, ?it/s]\n",
      "77it [00:00, 131.66it/s]\n",
      "81it [00:01, 19.88it/s] \n",
      "113it [00:01, 24.72it/s]\n",
      "131it [00:02, 24.32it/s]\n",
      "135it [00:05,  4.24it/s]\n",
      "138it [00:05,  4.41it/s]\n",
      "196it [00:06,  6.12it/s]\n",
      "216it [00:07,  8.11it/s]\n",
      "297it [00:07, 11.30it/s]\n",
      "389it [00:08, 15.62it/s]\n",
      "398it [00:13,  4.48it/s]\n",
      "405it [00:15,  4.78it/s]\n",
      "483it [00:15,  6.73it/s]\n",
      "490it [00:16,  7.78it/s]\n",
      "504it [00:17,  9.69it/s]\n",
      "510it [00:17,  9.97it/s]\n",
      "514it [00:20,  3.95it/s]\n",
      "517it [00:20,  4.29it/s]\n",
      "659it [00:21,  6.08it/s]\n",
      "670it [00:21,  7.67it/s]\n",
      "677it [00:24,  4.62it/s]\n",
      "682it [00:25,  5.31it/s]\n",
      "779it [00:25,  7.48it/s]\n",
      "814it [00:26, 10.12it/s]\n",
      "849it [00:27, 13.44it/s]\n",
      "867it [00:28, 12.28it/s]\n",
      "981it [00:29, 17.06it/s]\n",
      "990it [00:31,  9.27it/s]\n",
      "1042it [00:32, 12.51it/s]\n",
      "1068it [00:32, 15.85it/s]\n",
      "1158it [00:33, 21.11it/s]\n",
      "1195it [00:34, 26.16it/s]\n",
      "1202it [00:35, 11.07it/s]\n",
      "1227it [00:36, 13.95it/s]\n",
      "1232it [00:40,  3.69it/s]\n",
      "1236it [00:46,  1.54it/s]\n",
      "1239it [00:47,  1.90it/s]\n",
      "1241it [00:48,  1.82it/s]\n",
      "1243it [00:52,  1.01s/it]\n",
      "1247it [00:53,  1.33it/s]\n",
      "1311it [00:53,  1.90it/s]\n",
      "1315it [00:54,  2.42it/s]\n",
      "1319it [00:54,  3.01it/s]\n",
      "1383it [00:55,  4.25it/s]\n",
      "1388it [00:58,  2.92it/s]\n",
      "1392it [01:00,  2.39it/s]\n",
      "1395it [01:02,  2.13it/s]\n",
      "1399it [01:03,  2.68it/s]\n",
      "1426it [01:03,  3.74it/s]\n",
      "1429it [01:05,  2.78it/s]\n",
      "1431it [01:07,  2.05it/s]\n",
      "1550it [01:07,  2.92it/s]\n",
      "1557it [01:08,  3.78it/s]\n",
      "1604it [01:08,  5.29it/s]\n",
      "1610it [01:09,  5.86it/s]\n",
      "1702it [01:10,  8.25it/s]\n",
      "1784it [01:10, 11.49it/s]\n",
      "1847it [01:11, 15.48it/s]\n",
      "1857it [01:13,  8.69it/s]\n",
      "1892it [01:14, 11.51it/s]\n",
      "1899it [01:20,  3.01it/s]\n",
      "1915it [01:21,  4.03it/s]\n",
      "2052it [01:22,  5.71it/s]\n",
      "2076it [01:23,  7.62it/s]\n",
      "2084it [01:27,  4.06it/s]\n",
      "2114it [01:27,  5.61it/s]\n",
      "2120it [01:28,  6.42it/s]\n",
      "2136it [01:29,  8.17it/s]\n",
      "2187it [01:29, 11.21it/s]\n",
      "2192it [01:30, 10.04it/s]\n",
      "2236it [01:30, 13.58it/s]\n",
      "2241it [01:32,  8.29it/s]\n",
      "2270it [01:32, 11.07it/s]\n",
      "2276it [01:33, 10.94it/s]\n",
      "2280it [01:33,  9.39it/s]\n",
      "2300it [01:34, 12.05it/s]\n",
      "2303it [01:35,  6.69it/s]\n",
      "2323it [01:35,  8.81it/s]\n",
      "2326it [01:36,  5.13it/s]\n",
      "2328it [01:37,  4.37it/s]\n",
      "2330it [01:38,  3.62it/s]\n",
      "2386it [01:39,  5.06it/s]\n",
      "2390it [01:39,  5.55it/s]\n",
      "2421it [01:40,  7.56it/s]\n",
      "2430it [01:40,  8.87it/s]\n",
      "2507it [01:41, 12.30it/s]\n",
      "2513it [01:42, 11.53it/s]\n",
      "2528it [01:42, 13.77it/s]\n",
      "2532it [01:43,  7.32it/s]\n",
      "2553it [01:47,  6.80it/s]\n",
      "2589it [01:48,  9.28it/s]\n",
      "2657it [01:48, 12.79it/s]\n",
      "2663it [01:49, 11.97it/s]\n",
      "2673it [01:49, 13.01it/s]\n",
      "2700it [01:50, 16.52it/s]\n",
      "2704it [01:55,  2.25it/s]\n",
      "2734it [01:56,  3.16it/s]\n",
      "2799it [01:59,  4.20it/s]\n",
      "2802it [02:00,  4.49it/s]\n",
      "2820it [02:01,  6.04it/s]\n",
      "2823it [02:06,  1.60it/s]\n",
      "2846it [02:06,  2.25it/s]\n",
      "2901it [02:07,  3.17it/s]\n",
      "2905it [02:08,  3.16it/s]\n",
      "2918it [02:09,  4.24it/s]\n",
      "2921it [02:09,  4.46it/s]\n",
      "2939it [02:10,  6.01it/s]\n",
      "2942it [02:12,  3.41it/s]\n",
      "2944it [02:13,  2.60it/s]\n",
      "2946it [02:14,  2.79it/s]\n",
      "3022it [02:14,  3.95it/s]\n",
      "3168it [02:15,  5.59it/s]\n",
      "3257it [02:16,  7.86it/s]\n",
      "3286it [02:16, 10.51it/s]\n",
      "3319it [02:17, 13.84it/s]\n",
      "3327it [02:17, 13.97it/s]\n",
      "3336it [02:18, 14.55it/s]\n",
      "3358it [02:18, 17.71it/s]\n",
      "3363it [02:20,  6.94it/s]\n",
      "3385it [02:21,  9.22it/s]\n",
      "3394it [02:21, 10.48it/s]\n",
      "3407it [02:22, 12.35it/s]\n",
      "3410it [02:23,  5.87it/s]\n",
      "3416it [02:25,  5.03it/s]\n",
      "3418it [02:26,  3.22it/s]\n",
      "3420it [02:26,  3.23it/s]\n",
      "3425it [02:27,  3.96it/s]\n",
      "3428it [02:28,  4.29it/s]\n",
      "3429it [02:28,  2.87it/s]\n",
      "3432it [02:29,  3.30it/s]\n",
      "3433it [02:29,  2.63it/s]\n",
      "3438it [02:30,  3.31it/s]\n",
      "3439it [02:31,  2.53it/s]\n",
      "3440it [02:31,  2.25it/s]\n",
      "3441it [02:32,  2.02it/s]\n",
      "3442it [02:32,  1.92it/s]\n",
      "3443it [02:33,  1.84it/s]\n",
      "3444it [02:34,  1.81it/s]\n",
      "3445it [02:34,  1.79it/s]\n",
      "3446it [02:35,  1.79it/s]\n",
      "3448it [02:35,  2.08it/s]\n",
      "3449it [02:36,  1.92it/s]\n",
      "3450it [02:36,  1.83it/s]\n",
      "3451it [02:37,  1.82it/s]\n",
      "3452it [02:38,  1.79it/s]"
     ]
    },
    {
     "name": "stdout",
     "output_type": "stream",
     "text": [
      "did not work 2 times\n"
     ]
    }
   ],
   "source": [
    "scrape_ether_contract_and_write(address_array=ADDRESS_ARRAY, API_Token=API_Token)"
   ]
  },
  {
   "cell_type": "code",
   "execution_count": null,
   "metadata": {},
   "outputs": [],
   "source": []
  }
 ],
 "metadata": {
  "kernelspec": {
   "display_name": "Python 3",
   "language": "python",
   "name": "python3"
  },
  "language_info": {
   "codemirror_mode": {
    "name": "ipython",
    "version": 3
   },
   "file_extension": ".py",
   "mimetype": "text/x-python",
   "name": "python",
   "nbconvert_exporter": "python",
   "pygments_lexer": "ipython3",
   "version": "3.6.8"
  }
 },
 "nbformat": 4,
 "nbformat_minor": 2
}
