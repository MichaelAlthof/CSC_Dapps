{
 "cells": [
  {
   "cell_type": "markdown",
   "metadata": {},
   "source": [
    "### "
   ]
  },
  {
   "cell_type": "code",
   "execution_count": 1,
   "metadata": {},
   "outputs": [],
   "source": [
    "# Used Etherscan.io APIs\"\n"
   ]
  },
  {
   "cell_type": "markdown",
   "metadata": {},
   "source": [
    "### Import Modules"
   ]
  },
  {
   "cell_type": "code",
   "execution_count": 2,
   "metadata": {},
   "outputs": [],
   "source": [
    "import requests\n",
    "import pandas as pd\n",
    "import numpy as np\n",
    "import sys\n",
    "import time\n",
    "import os\n",
    "%matplotlib inline\n",
    "import matplotlib.pyplot as plt"
   ]
  },
  {
   "cell_type": "markdown",
   "metadata": {},
   "source": [
    "### Load List of Contracts"
   ]
  },
  {
   "cell_type": "code",
   "execution_count": 3,
   "metadata": {},
   "outputs": [],
   "source": [
    "# Load list from existing dataset\n",
    "contract = pd.read_csv(\"../data/ethereum_contracts_with_transaction_amount.csv\")"
   ]
  },
  {
   "cell_type": "code",
   "execution_count": 4,
   "metadata": {},
   "outputs": [
    {
     "data": {
      "text/plain": [
       "(1096965, 2)"
      ]
     },
     "execution_count": 4,
     "metadata": {},
     "output_type": "execute_result"
    }
   ],
   "source": [
    "contract[contract['tx_count']==1].shape"
   ]
  },
  {
   "cell_type": "code",
   "execution_count": 5,
   "metadata": {},
   "outputs": [
    {
     "data": {
      "text/plain": [
       "count    2.666613e+06\n",
       "mean     1.347424e+02\n",
       "std      1.765514e+04\n",
       "min      1.000000e+00\n",
       "25%      1.000000e+00\n",
       "50%      2.000000e+00\n",
       "75%      4.000000e+00\n",
       "max      2.029631e+07\n",
       "Name: tx_count, dtype: float64"
      ]
     },
     "execution_count": 5,
     "metadata": {},
     "output_type": "execute_result"
    }
   ],
   "source": [
    "contract.tx_count.describe()"
   ]
  },
  {
   "cell_type": "code",
   "execution_count": 6,
   "metadata": {},
   "outputs": [
    {
     "name": "stderr",
     "output_type": "stream",
     "text": [
      "C:\\Users\\zinovyee.hub\\AppData\\Local\\Continuum\\miniconda3\\envs\\dmc\\lib\\site-packages\\pandas\\plotting\\_core.py:1001: UserWarning: Attempted to set non-positive left xlim on a log-scaled axis.\n",
      "Invalid limit will be ignored.\n",
      "  ax.set_xlim(left, right)\n"
     ]
    },
    {
     "data": {
      "text/plain": [
       "Text(0, 0.5, 'Log of the frequency')"
      ]
     },
     "execution_count": 6,
     "metadata": {},
     "output_type": "execute_result"
    },
    {
     "data": {
      "image/png": "[encoded data removed]",
      "text/plain": [
       "<Figure size 432x288 with 1 Axes>"
      ]
     },
     "metadata": {
      "needs_background": "light"
     },
     "output_type": "display_data"
    }
   ],
   "source": [
    "contract.tx_count.plot(loglog=True)\n",
    "plt.xlabel('Log of the transaction amount per contract')\n",
    "plt.ylabel('Log of the frequency')"
   ]
  },
  {
   "cell_type": "code",
   "execution_count": 7,
   "metadata": {},
   "outputs": [],
   "source": [
    "contract = contract[contract['tx_count']>100]\n"
   ]
  },
  {
   "cell_type": "code",
   "execution_count": 8,
   "metadata": {},
   "outputs": [
    {
     "data": {
      "text/plain": [
       "(60371, 2)"
      ]
     },
     "execution_count": 8,
     "metadata": {},
     "output_type": "execute_result"
    }
   ],
   "source": [
    "contract.shape"
   ]
  },
  {
   "cell_type": "code",
   "execution_count": 9,
   "metadata": {},
   "outputs": [],
   "source": [
    "contract.drop_duplicates(inplace=True)"
   ]
  },
  {
   "cell_type": "code",
   "execution_count": 10,
   "metadata": {},
   "outputs": [],
   "source": [
    "contract.drop_duplicates('address', inplace=True)"
   ]
  },
  {
   "cell_type": "markdown",
   "metadata": {},
   "source": [
    "### Constants\n"
   ]
  },
  {
   "cell_type": "code",
   "execution_count": 11,
   "metadata": {},
   "outputs": [],
   "source": [
    "with open(\"token.txt\") as file:  \n",
    "    API_Token = file.read() "
   ]
  },
  {
   "cell_type": "code",
   "execution_count": 12,
   "metadata": {},
   "outputs": [],
   "source": [
    "ADDRESS_ARRAY = contract.address.values"
   ]
  },
  {
   "cell_type": "code",
   "execution_count": 13,
   "metadata": {},
   "outputs": [
    {
     "data": {
      "text/plain": [
       "array(['0xdac17f958d2ee523a2206206994597c13d831ec7',\n",
       "       '0x8d12a197cb00d4747a1fe03395095ce2a5cc6819',\n",
       "       '0x174bfa6600bf90c885c7c01c7031389ed1461ab9', ...,\n",
       "       '0x24e69002f1f266f51fabac9cb576d12812c35e50',\n",
       "       '0x6b58bd5502913053c92f0ae4fc817fb5dac7bfe3',\n",
       "       '0x392a5dbfa283b8230c4a8f0f0c1582d867e79046'], dtype=object)"
      ]
     },
     "execution_count": 13,
     "metadata": {},
     "output_type": "execute_result"
    }
   ],
   "source": [
    "ADDRESS_ARRAY"
   ]
  },
  {
   "cell_type": "markdown",
   "metadata": {},
   "source": [
    "### Create Folders"
   ]
  },
  {
   "cell_type": "code",
   "execution_count": 14,
   "metadata": {},
   "outputs": [],
   "source": [
    "ABI = '../data/ABI'\n",
    "sol_source = '../data/sol_source'\n",
    "full = '../data/full'"
   ]
  },
  {
   "cell_type": "code",
   "execution_count": 69,
   "metadata": {},
   "outputs": [],
   "source": [
    "if not os.path.exists(ABI):\n",
    "    os.mkdir(ABI)\n",
    "if not os.path.exists(sol_source):\n",
    "    os.mkdir(sol_source)\n",
    "if not os.path.exists(full):\n",
    "    os.mkdir(full)"
   ]
  },
  {
   "cell_type": "markdown",
   "metadata": {},
   "source": [
    "### Function to call the API"
   ]
  },
  {
   "cell_type": "code",
   "execution_count": 34,
   "metadata": {},
   "outputs": [],
   "source": [
    "files_in_sol = os.listdir(f\"../data/sol_source/\")\n",
    "files_in_sol = [i.split('_')[0] for i  in files_in_sol]\n",
    "files_in_sol = set(files_in_sol)"
   ]
  },
  {
   "cell_type": "code",
   "execution_count": 49,
   "metadata": {},
   "outputs": [],
   "source": [
    "def scrape_ether_contract_and_write(address_array, API_Token):\n",
    "    c = 0\n",
    "    for i, address in enumerate(address_array):\n",
    "        if i%1000==0:\n",
    "                    print(i)\n",
    "        if address in files_in_sol:\n",
    "            continue\n",
    "        else: \n",
    "            # time.sleep(0.01) # we can do 5 GET/POST requests per sec\n",
    "        url = f'https://api.etherscan.io/api?module=contract&action=getsourcecode&address={address}&apikey={API_Token}'\n",
    "        resp = requests.get(url=url)\n",
    "        data = resp.json()\n",
    "        try:\n",
    "            contract_name = data['result'][0]['ContractName']\n",
    "\n",
    "\n",
    "            # save full GET request\n",
    "            with open(f\"../data/full/{address}_{contract_name}.sol\", \"w\", encoding=\"utf-8\") as d:\n",
    "                print(data, file=d)  \n",
    "\n",
    "\n",
    "            # save solidity source code\n",
    "            with open(f\"../data/sol_source/{address}_{contract_name}.sol\", \"w\", encoding=\"utf-8\") as f:\n",
    "                print(data['result'][0]['SourceCode'], file=f)\n",
    "\n",
    "            # save ABI compiled version\n",
    "            with open(f\"../data/ABI/{address}_{contract_name}.sol\", \"w\", encoding=\"utf-8\") as d:\n",
    "                print(data['result'][0]['ABI'], file=d)\n",
    "\n",
    "        except:\n",
    "            c += 1\n",
    "            time.sleep(0.25)\n",
    "                    \n",
    "    print(f'did not work {c} times')"
   ]
  },
  {
   "cell_type": "markdown",
   "metadata": {},
   "source": [
    "### Function Call"
   ]
  },
  {
   "cell_type": "code",
   "execution_count": 102,
   "metadata": {},
   "outputs": [
    {
     "name": "stdout",
     "output_type": "stream",
     "text": [
      "0\n",
      "1000\n",
      "2000\n",
      "3000\n",
      "4000\n",
      "5000\n",
      "6000\n",
      "7000\n",
      "8000\n",
      "9000\n",
      "10000\n",
      "11000\n",
      "12000\n",
      "13000\n",
      "14000\n",
      "15000\n",
      "16000\n",
      "17000\n",
      "18000\n",
      "19000\n",
      "20000\n",
      "21000\n",
      "22000\n",
      "23000\n",
      "24000\n",
      "25000\n",
      "26000\n",
      "27000\n",
      "28000\n",
      "29000\n",
      "30000\n",
      "31000\n",
      "32000\n",
      "33000\n",
      "34000\n",
      "35000\n",
      "36000\n",
      "37000\n",
      "38000\n",
      "39000\n",
      "40000\n",
      "41000\n",
      "42000\n",
      "43000\n",
      "44000\n",
      "45000\n",
      "46000\n",
      "47000\n",
      "48000\n",
      "49000\n",
      "50000\n",
      "51000\n",
      "52000\n",
      "53000\n",
      "54000\n",
      "55000\n",
      "56000\n",
      "57000\n",
      "58000\n",
      "59000\n",
      "60000\n",
      "did not work 1241 times\n"
     ]
    }
   ],
   "source": [
    "scrape_ether_contract_and_write(address_array=ADDRESS_ARRAY, API_Token=API_Token, df=df)"
   ]
  }
 ],
 "metadata": {
  "kernelspec": {
   "display_name": "Python 3",
   "language": "python",
   "name": "python3"
  },
  "language_info": {
   "codemirror_mode": {
    "name": "ipython",
    "version": 3
   },
   "file_extension": ".py",
   "mimetype": "text/x-python",
   "name": "python",
   "nbconvert_exporter": "python",
   "pygments_lexer": "ipython3",
   "version": "3.6.8"
  }
 },
 "nbformat": 4,
 "nbformat_minor": 2
}
